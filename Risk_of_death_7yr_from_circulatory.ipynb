{
 "cells": [
  {
   "cell_type": "markdown",
   "metadata": {},
   "source": [
    "# Risk of death due to circulatory causes in 7 years in individuals aged 50 and older\n",
    "*Jessica Irving, 22 May 2022*"
   ]
  },
  {
   "cell_type": "markdown",
   "metadata": {},
   "source": [
    "**Required steps:**\n",
    "\n",
    "- Create a prototype model estimating the risk of death due to circulatory causes within 7 years, using python\n",
    "- Detail the approach you have taken\n",
    "- Visualise the output of the model using an appropriate format\n",
    "- Explain model selection and justification as to why this was chosen over other approaches\n",
    "- Success criteria\n",
    "- Highlight any current limitations in the model\n",
    "- Discuss subsequent next steps\n",
    "\n",
    "### Load packages and dataset"
   ]
  },
  {
   "cell_type": "code",
   "execution_count": 1,
   "metadata": {},
   "outputs": [],
   "source": [
    "import os\n",
    "import pandas as pd\n",
    "import numpy as np\n",
    "import scipy as sp\n",
    "import seaborn as sn\n",
    "import matplotlib.pyplot as plt\n",
    "from lifelines import KaplanMeierFitter\n",
    "from sksurv.nonparametric import kaplan_meier_estimator\n",
    "from sklearn.model_selection import cross_val_score\n",
    "from sklearn.model_selection import RepeatedStratifiedKFold\n",
    "from sksurv.preprocessing import OneHotEncoder                 # Transform into numerical matrix with one-hot-encoding\n",
    "from sksurv.util import Surv                         # Nice functions for transforming pandas df into structured array  \n",
    "from fancyimpute import IterativeImputer              # MICE imputation\n",
    "from sksurv.ensemble import RandomSurvivalForest\n",
    "from sksurv.linear_model import CoxPHSurvivalAnalysis, CoxnetSurvivalAnalysis\n",
    "from sksurv.metrics import cumulative_dynamic_auc, integrated_brier_score"
   ]
  },
  {
   "cell_type": "code",
   "execution_count": 2,
   "metadata": {},
   "outputs": [],
   "source": [
    "df = pd.read_csv('five_lives_ml_task_data.csv')"
   ]
  },
  {
   "cell_type": "markdown",
   "metadata": {},
   "source": [
    "### Exploratory data analysis and cleaning"
   ]
  },
  {
   "cell_type": "markdown",
   "metadata": {},
   "source": [
    "From the steps below, we can see that: \n",
    "- **Age:** No outlandish ages, however 17% have missing data, and these individuals all have missing creatinine values as well. As age is going to be an important variable in any survival model, it's important to use imputation instead of dropping the variable.\n",
    "- **Chapter:** This is only recorded for individuals with *death == true*, therefore this is an outcome and not an appropriate input for a prognostic model. However, we'll need this variable to formulate a variable recording the event of interest, circulatory death, and to evaluate competing risks of deaths from other causes.\n",
    "- **Flc.grp:** This variable represents the sum of kappa and lambda split into deciles.\n",
    "- **Creatinine**: Missing data - let's impute for now.\n",
    "- **Kappa** and **lambda**: Used to create the flc.grp variable\n",
    "- **Mgus**: Near zero variance - only 1% 'yes' rate\n",
    "- **Sample.yr**: The vast majority of the sample was recruited in the late 90s - we can exploit this for an external temporal validation later on\n",
    "- **Sex**: No missingness\n",
    "- **Futime:** Individuals have been followed for up to 14 years.\n",
    "\n",
    "##### Some simple counts"
   ]
  },
  {
   "cell_type": "code",
   "execution_count": 3,
   "metadata": {},
   "outputs": [
    {
     "data": {
      "text/html": [
       "<div>\n",
       "<style scoped>\n",
       "    .dataframe tbody tr th:only-of-type {\n",
       "        vertical-align: middle;\n",
       "    }\n",
       "\n",
       "    .dataframe tbody tr th {\n",
       "        vertical-align: top;\n",
       "    }\n",
       "\n",
       "    .dataframe thead th {\n",
       "        text-align: right;\n",
       "    }\n",
       "</style>\n",
       "<table border=\"1\" class=\"dataframe\">\n",
       "  <thead>\n",
       "    <tr style=\"text-align: right;\">\n",
       "      <th></th>\n",
       "      <th>age</th>\n",
       "      <th>chapter</th>\n",
       "      <th>creatinine</th>\n",
       "      <th>flc.grp</th>\n",
       "      <th>kappa</th>\n",
       "      <th>lambda</th>\n",
       "      <th>mgus</th>\n",
       "      <th>sample.yr</th>\n",
       "      <th>sex</th>\n",
       "      <th>death</th>\n",
       "      <th>futime</th>\n",
       "    </tr>\n",
       "  </thead>\n",
       "  <tbody>\n",
       "    <tr>\n",
       "      <th>0</th>\n",
       "      <td>97.0</td>\n",
       "      <td>Circulatory</td>\n",
       "      <td>1.7</td>\n",
       "      <td>10</td>\n",
       "      <td>5.70</td>\n",
       "      <td>4.860</td>\n",
       "      <td>no</td>\n",
       "      <td>1997</td>\n",
       "      <td>F</td>\n",
       "      <td>True</td>\n",
       "      <td>85.0</td>\n",
       "    </tr>\n",
       "    <tr>\n",
       "      <th>1</th>\n",
       "      <td>92.0</td>\n",
       "      <td>Neoplasms</td>\n",
       "      <td>0.9</td>\n",
       "      <td>1</td>\n",
       "      <td>0.87</td>\n",
       "      <td>0.683</td>\n",
       "      <td>no</td>\n",
       "      <td>2000</td>\n",
       "      <td>F</td>\n",
       "      <td>True</td>\n",
       "      <td>1281.0</td>\n",
       "    </tr>\n",
       "    <tr>\n",
       "      <th>2</th>\n",
       "      <td>94.0</td>\n",
       "      <td>Circulatory</td>\n",
       "      <td>1.4</td>\n",
       "      <td>10</td>\n",
       "      <td>4.36</td>\n",
       "      <td>3.850</td>\n",
       "      <td>no</td>\n",
       "      <td>1997</td>\n",
       "      <td>F</td>\n",
       "      <td>True</td>\n",
       "      <td>69.0</td>\n",
       "    </tr>\n",
       "    <tr>\n",
       "      <th>3</th>\n",
       "      <td>92.0</td>\n",
       "      <td>Circulatory</td>\n",
       "      <td>1.0</td>\n",
       "      <td>9</td>\n",
       "      <td>2.42</td>\n",
       "      <td>2.220</td>\n",
       "      <td>no</td>\n",
       "      <td>1996</td>\n",
       "      <td>F</td>\n",
       "      <td>True</td>\n",
       "      <td>115.0</td>\n",
       "    </tr>\n",
       "    <tr>\n",
       "      <th>4</th>\n",
       "      <td>93.0</td>\n",
       "      <td>Circulatory</td>\n",
       "      <td>1.1</td>\n",
       "      <td>6</td>\n",
       "      <td>1.32</td>\n",
       "      <td>1.690</td>\n",
       "      <td>no</td>\n",
       "      <td>1996</td>\n",
       "      <td>F</td>\n",
       "      <td>True</td>\n",
       "      <td>1039.0</td>\n",
       "    </tr>\n",
       "  </tbody>\n",
       "</table>\n",
       "</div>"
      ],
      "text/plain": [
       "    age      chapter  creatinine  flc.grp  kappa  lambda mgus  sample.yr sex  \\\n",
       "0  97.0  Circulatory         1.7       10   5.70   4.860   no       1997   F   \n",
       "1  92.0    Neoplasms         0.9        1   0.87   0.683   no       2000   F   \n",
       "2  94.0  Circulatory         1.4       10   4.36   3.850   no       1997   F   \n",
       "3  92.0  Circulatory         1.0        9   2.42   2.220   no       1996   F   \n",
       "4  93.0  Circulatory         1.1        6   1.32   1.690   no       1996   F   \n",
       "\n",
       "   death  futime  \n",
       "0   True    85.0  \n",
       "1   True  1281.0  \n",
       "2   True    69.0  \n",
       "3   True   115.0  \n",
       "4   True  1039.0  "
      ]
     },
     "execution_count": 3,
     "metadata": {},
     "output_type": "execute_result"
    }
   ],
   "source": [
    "df.head()"
   ]
  },
  {
   "cell_type": "code",
   "execution_count": 4,
   "metadata": {},
   "outputs": [
    {
     "name": "stdout",
     "output_type": "stream",
     "text": [
      "<class 'pandas.core.frame.DataFrame'>\n",
      "RangeIndex: 7874 entries, 0 to 7873\n",
      "Data columns (total 11 columns):\n",
      " #   Column      Non-Null Count  Dtype  \n",
      "---  ------      --------------  -----  \n",
      " 0   age         6524 non-null   float64\n",
      " 1   chapter     2169 non-null   object \n",
      " 2   creatinine  6524 non-null   float64\n",
      " 3   flc.grp     7874 non-null   int64  \n",
      " 4   kappa       7874 non-null   float64\n",
      " 5   lambda      7874 non-null   float64\n",
      " 6   mgus        7874 non-null   object \n",
      " 7   sample.yr   7874 non-null   int64  \n",
      " 8   sex         7874 non-null   object \n",
      " 9   death       7874 non-null   bool   \n",
      " 10  futime      7874 non-null   float64\n",
      "dtypes: bool(1), float64(5), int64(2), object(3)\n",
      "memory usage: 623.0+ KB\n"
     ]
    }
   ],
   "source": [
    "df.info() "
   ]
  },
  {
   "cell_type": "code",
   "execution_count": 5,
   "metadata": {},
   "outputs": [],
   "source": [
    "# Convert object dtypes to category for model matrix building later.\n",
    "df[\"sex\"] = df[\"sex\"].astype(\"category\")\n",
    "df[\"chapter\"] = df[\"chapter\"].astype(\"category\")\n",
    "df[\"mgus\"] = df[\"mgus\"].astype(\"category\")"
   ]
  },
  {
   "cell_type": "code",
   "execution_count": 6,
   "metadata": {},
   "outputs": [
    {
     "data": {
      "text/plain": [
       "no     7759\n",
       "yes     115\n",
       "Name: mgus, dtype: int64"
      ]
     },
     "execution_count": 6,
     "metadata": {},
     "output_type": "execute_result"
    }
   ],
   "source": [
    "df['mgus'].value_counts() # Near zero variance - implications for later modelling"
   ]
  },
  {
   "cell_type": "code",
   "execution_count": 7,
   "metadata": {},
   "outputs": [
    {
     "data": {
      "text/plain": [
       "3     820\n",
       "2     811\n",
       "7     806\n",
       "9     803\n",
       "6     791\n",
       "5     791\n",
       "4     786\n",
       "1     769\n",
       "10    767\n",
       "8     730\n",
       "Name: flc.grp, dtype: int64"
      ]
     },
     "execution_count": 7,
     "metadata": {},
     "output_type": "execute_result"
    }
   ],
   "source": [
    "df['flc.grp'].value_counts() "
   ]
  },
  {
   "cell_type": "code",
   "execution_count": 8,
   "metadata": {},
   "outputs": [
    {
     "data": {
      "text/html": [
       "<div>\n",
       "<style scoped>\n",
       "    .dataframe tbody tr th:only-of-type {\n",
       "        vertical-align: middle;\n",
       "    }\n",
       "\n",
       "    .dataframe tbody tr th {\n",
       "        vertical-align: top;\n",
       "    }\n",
       "\n",
       "    .dataframe thead th {\n",
       "        text-align: right;\n",
       "    }\n",
       "</style>\n",
       "<table border=\"1\" class=\"dataframe\">\n",
       "  <thead>\n",
       "    <tr style=\"text-align: right;\">\n",
       "      <th></th>\n",
       "      <th>age</th>\n",
       "      <th>chapter</th>\n",
       "      <th>creatinine</th>\n",
       "      <th>flc.grp</th>\n",
       "      <th>kappa</th>\n",
       "      <th>lambda</th>\n",
       "      <th>mgus</th>\n",
       "      <th>sample.yr</th>\n",
       "      <th>sex</th>\n",
       "      <th>death</th>\n",
       "      <th>futime</th>\n",
       "    </tr>\n",
       "  </thead>\n",
       "  <tbody>\n",
       "    <tr>\n",
       "      <th>count</th>\n",
       "      <td>6524.000000</td>\n",
       "      <td>2169</td>\n",
       "      <td>6524.000000</td>\n",
       "      <td>7874.000000</td>\n",
       "      <td>7874.000000</td>\n",
       "      <td>7874.000000</td>\n",
       "      <td>7874</td>\n",
       "      <td>7874.000000</td>\n",
       "      <td>7874</td>\n",
       "      <td>7874</td>\n",
       "      <td>7874.000000</td>\n",
       "    </tr>\n",
       "    <tr>\n",
       "      <th>unique</th>\n",
       "      <td>NaN</td>\n",
       "      <td>16</td>\n",
       "      <td>NaN</td>\n",
       "      <td>NaN</td>\n",
       "      <td>NaN</td>\n",
       "      <td>NaN</td>\n",
       "      <td>2</td>\n",
       "      <td>NaN</td>\n",
       "      <td>2</td>\n",
       "      <td>2</td>\n",
       "      <td>NaN</td>\n",
       "    </tr>\n",
       "    <tr>\n",
       "      <th>top</th>\n",
       "      <td>NaN</td>\n",
       "      <td>Circulatory</td>\n",
       "      <td>NaN</td>\n",
       "      <td>NaN</td>\n",
       "      <td>NaN</td>\n",
       "      <td>NaN</td>\n",
       "      <td>no</td>\n",
       "      <td>NaN</td>\n",
       "      <td>F</td>\n",
       "      <td>False</td>\n",
       "      <td>NaN</td>\n",
       "    </tr>\n",
       "    <tr>\n",
       "      <th>freq</th>\n",
       "      <td>NaN</td>\n",
       "      <td>745</td>\n",
       "      <td>NaN</td>\n",
       "      <td>NaN</td>\n",
       "      <td>NaN</td>\n",
       "      <td>NaN</td>\n",
       "      <td>7759</td>\n",
       "      <td>NaN</td>\n",
       "      <td>4350</td>\n",
       "      <td>5705</td>\n",
       "      <td>NaN</td>\n",
       "    </tr>\n",
       "    <tr>\n",
       "      <th>mean</th>\n",
       "      <td>65.057787</td>\n",
       "      <td>NaN</td>\n",
       "      <td>1.093516</td>\n",
       "      <td>5.470536</td>\n",
       "      <td>1.430881</td>\n",
       "      <td>1.702624</td>\n",
       "      <td>NaN</td>\n",
       "      <td>1996.790831</td>\n",
       "      <td>NaN</td>\n",
       "      <td>NaN</td>\n",
       "      <td>3661.042291</td>\n",
       "    </tr>\n",
       "    <tr>\n",
       "      <th>std</th>\n",
       "      <td>10.682585</td>\n",
       "      <td>NaN</td>\n",
       "      <td>0.416507</td>\n",
       "      <td>2.863011</td>\n",
       "      <td>0.896774</td>\n",
       "      <td>1.030732</td>\n",
       "      <td>NaN</td>\n",
       "      <td>1.765156</td>\n",
       "      <td>NaN</td>\n",
       "      <td>NaN</td>\n",
       "      <td>1432.677330</td>\n",
       "    </tr>\n",
       "    <tr>\n",
       "      <th>min</th>\n",
       "      <td>50.000000</td>\n",
       "      <td>NaN</td>\n",
       "      <td>0.400000</td>\n",
       "      <td>1.000000</td>\n",
       "      <td>0.010000</td>\n",
       "      <td>0.040000</td>\n",
       "      <td>NaN</td>\n",
       "      <td>1995.000000</td>\n",
       "      <td>NaN</td>\n",
       "      <td>NaN</td>\n",
       "      <td>0.000000</td>\n",
       "    </tr>\n",
       "    <tr>\n",
       "      <th>25%</th>\n",
       "      <td>56.000000</td>\n",
       "      <td>NaN</td>\n",
       "      <td>0.900000</td>\n",
       "      <td>3.000000</td>\n",
       "      <td>0.960000</td>\n",
       "      <td>1.200000</td>\n",
       "      <td>NaN</td>\n",
       "      <td>1996.000000</td>\n",
       "      <td>NaN</td>\n",
       "      <td>NaN</td>\n",
       "      <td>2852.000000</td>\n",
       "    </tr>\n",
       "    <tr>\n",
       "      <th>50%</th>\n",
       "      <td>63.500000</td>\n",
       "      <td>NaN</td>\n",
       "      <td>1.000000</td>\n",
       "      <td>5.000000</td>\n",
       "      <td>1.270000</td>\n",
       "      <td>1.510000</td>\n",
       "      <td>NaN</td>\n",
       "      <td>1996.000000</td>\n",
       "      <td>NaN</td>\n",
       "      <td>NaN</td>\n",
       "      <td>4302.000000</td>\n",
       "    </tr>\n",
       "    <tr>\n",
       "      <th>75%</th>\n",
       "      <td>73.000000</td>\n",
       "      <td>NaN</td>\n",
       "      <td>1.200000</td>\n",
       "      <td>8.000000</td>\n",
       "      <td>1.680000</td>\n",
       "      <td>1.920000</td>\n",
       "      <td>NaN</td>\n",
       "      <td>1997.000000</td>\n",
       "      <td>NaN</td>\n",
       "      <td>NaN</td>\n",
       "      <td>4773.000000</td>\n",
       "    </tr>\n",
       "    <tr>\n",
       "      <th>max</th>\n",
       "      <td>101.000000</td>\n",
       "      <td>NaN</td>\n",
       "      <td>10.800000</td>\n",
       "      <td>10.000000</td>\n",
       "      <td>20.500000</td>\n",
       "      <td>26.600000</td>\n",
       "      <td>NaN</td>\n",
       "      <td>2003.000000</td>\n",
       "      <td>NaN</td>\n",
       "      <td>NaN</td>\n",
       "      <td>5215.000000</td>\n",
       "    </tr>\n",
       "  </tbody>\n",
       "</table>\n",
       "</div>"
      ],
      "text/plain": [
       "                age      chapter   creatinine      flc.grp        kappa  \\\n",
       "count   6524.000000         2169  6524.000000  7874.000000  7874.000000   \n",
       "unique          NaN           16          NaN          NaN          NaN   \n",
       "top             NaN  Circulatory          NaN          NaN          NaN   \n",
       "freq            NaN          745          NaN          NaN          NaN   \n",
       "mean      65.057787          NaN     1.093516     5.470536     1.430881   \n",
       "std       10.682585          NaN     0.416507     2.863011     0.896774   \n",
       "min       50.000000          NaN     0.400000     1.000000     0.010000   \n",
       "25%       56.000000          NaN     0.900000     3.000000     0.960000   \n",
       "50%       63.500000          NaN     1.000000     5.000000     1.270000   \n",
       "75%       73.000000          NaN     1.200000     8.000000     1.680000   \n",
       "max      101.000000          NaN    10.800000    10.000000    20.500000   \n",
       "\n",
       "             lambda  mgus    sample.yr   sex  death       futime  \n",
       "count   7874.000000  7874  7874.000000  7874   7874  7874.000000  \n",
       "unique          NaN     2          NaN     2      2          NaN  \n",
       "top             NaN    no          NaN     F  False          NaN  \n",
       "freq            NaN  7759          NaN  4350   5705          NaN  \n",
       "mean       1.702624   NaN  1996.790831   NaN    NaN  3661.042291  \n",
       "std        1.030732   NaN     1.765156   NaN    NaN  1432.677330  \n",
       "min        0.040000   NaN  1995.000000   NaN    NaN     0.000000  \n",
       "25%        1.200000   NaN  1996.000000   NaN    NaN  2852.000000  \n",
       "50%        1.510000   NaN  1996.000000   NaN    NaN  4302.000000  \n",
       "75%        1.920000   NaN  1997.000000   NaN    NaN  4773.000000  \n",
       "max       26.600000   NaN  2003.000000   NaN    NaN  5215.000000  "
      ]
     },
     "execution_count": 8,
     "metadata": {},
     "output_type": "execute_result"
    }
   ],
   "source": [
    "df.describe(include = 'all') # 2169 events."
   ]
  },
  {
   "cell_type": "code",
   "execution_count": 9,
   "metadata": {
    "scrolled": true
   },
   "outputs": [
    {
     "data": {
      "text/plain": [
       "1996    3491\n",
       "1997    1381\n",
       "1995    1275\n",
       "1998     687\n",
       "1999     350\n",
       "2000     245\n",
       "2003     222\n",
       "2001     175\n",
       "2002      48\n",
       "Name: sample.yr, dtype: int64"
      ]
     },
     "execution_count": 9,
     "metadata": {},
     "output_type": "execute_result"
    }
   ],
   "source": [
    "df['sample.yr'].value_counts() # Vast majority recruited in late 90s. "
   ]
  },
  {
   "cell_type": "markdown",
   "metadata": {},
   "source": [
    "##### Handling correlations between features"
   ]
  },
  {
   "cell_type": "code",
   "execution_count": 10,
   "metadata": {},
   "outputs": [
    {
     "data": {
      "text/html": [
       "<div>\n",
       "<style scoped>\n",
       "    .dataframe tbody tr th:only-of-type {\n",
       "        vertical-align: middle;\n",
       "    }\n",
       "\n",
       "    .dataframe tbody tr th {\n",
       "        vertical-align: top;\n",
       "    }\n",
       "\n",
       "    .dataframe thead th {\n",
       "        text-align: right;\n",
       "    }\n",
       "</style>\n",
       "<table border=\"1\" class=\"dataframe\">\n",
       "  <thead>\n",
       "    <tr style=\"text-align: right;\">\n",
       "      <th></th>\n",
       "      <th>age</th>\n",
       "      <th>creatinine</th>\n",
       "      <th>flc.grp</th>\n",
       "      <th>kappa</th>\n",
       "      <th>lambda</th>\n",
       "      <th>sample.yr</th>\n",
       "      <th>death</th>\n",
       "      <th>futime</th>\n",
       "    </tr>\n",
       "  </thead>\n",
       "  <tbody>\n",
       "    <tr>\n",
       "      <th>age</th>\n",
       "      <td>1.000000</td>\n",
       "      <td>0.116439</td>\n",
       "      <td>0.317990</td>\n",
       "      <td>0.279997</td>\n",
       "      <td>0.229881</td>\n",
       "      <td>-0.125051</td>\n",
       "      <td>0.539427</td>\n",
       "      <td>-0.405917</td>\n",
       "    </tr>\n",
       "    <tr>\n",
       "      <th>creatinine</th>\n",
       "      <td>0.116439</td>\n",
       "      <td>1.000000</td>\n",
       "      <td>0.259453</td>\n",
       "      <td>0.553277</td>\n",
       "      <td>0.502504</td>\n",
       "      <td>0.043304</td>\n",
       "      <td>0.157080</td>\n",
       "      <td>-0.190837</td>\n",
       "    </tr>\n",
       "    <tr>\n",
       "      <th>flc.grp</th>\n",
       "      <td>0.317990</td>\n",
       "      <td>0.259453</td>\n",
       "      <td>1.000000</td>\n",
       "      <td>0.703849</td>\n",
       "      <td>0.653835</td>\n",
       "      <td>0.072409</td>\n",
       "      <td>0.279271</td>\n",
       "      <td>-0.284912</td>\n",
       "    </tr>\n",
       "    <tr>\n",
       "      <th>kappa</th>\n",
       "      <td>0.279997</td>\n",
       "      <td>0.553277</td>\n",
       "      <td>0.703849</td>\n",
       "      <td>1.000000</td>\n",
       "      <td>0.819552</td>\n",
       "      <td>0.076069</td>\n",
       "      <td>0.284790</td>\n",
       "      <td>-0.324305</td>\n",
       "    </tr>\n",
       "    <tr>\n",
       "      <th>lambda</th>\n",
       "      <td>0.229881</td>\n",
       "      <td>0.502504</td>\n",
       "      <td>0.653835</td>\n",
       "      <td>0.819552</td>\n",
       "      <td>1.000000</td>\n",
       "      <td>0.002739</td>\n",
       "      <td>0.256982</td>\n",
       "      <td>-0.279041</td>\n",
       "    </tr>\n",
       "    <tr>\n",
       "      <th>sample.yr</th>\n",
       "      <td>-0.125051</td>\n",
       "      <td>0.043304</td>\n",
       "      <td>0.072409</td>\n",
       "      <td>0.076069</td>\n",
       "      <td>0.002739</td>\n",
       "      <td>1.000000</td>\n",
       "      <td>-0.121811</td>\n",
       "      <td>-0.315571</td>\n",
       "    </tr>\n",
       "    <tr>\n",
       "      <th>death</th>\n",
       "      <td>0.539427</td>\n",
       "      <td>0.157080</td>\n",
       "      <td>0.279271</td>\n",
       "      <td>0.284790</td>\n",
       "      <td>0.256982</td>\n",
       "      <td>-0.121811</td>\n",
       "      <td>1.000000</td>\n",
       "      <td>-0.639805</td>\n",
       "    </tr>\n",
       "    <tr>\n",
       "      <th>futime</th>\n",
       "      <td>-0.405917</td>\n",
       "      <td>-0.190837</td>\n",
       "      <td>-0.284912</td>\n",
       "      <td>-0.324305</td>\n",
       "      <td>-0.279041</td>\n",
       "      <td>-0.315571</td>\n",
       "      <td>-0.639805</td>\n",
       "      <td>1.000000</td>\n",
       "    </tr>\n",
       "  </tbody>\n",
       "</table>\n",
       "</div>"
      ],
      "text/plain": [
       "                 age  creatinine   flc.grp     kappa    lambda  sample.yr  \\\n",
       "age         1.000000    0.116439  0.317990  0.279997  0.229881  -0.125051   \n",
       "creatinine  0.116439    1.000000  0.259453  0.553277  0.502504   0.043304   \n",
       "flc.grp     0.317990    0.259453  1.000000  0.703849  0.653835   0.072409   \n",
       "kappa       0.279997    0.553277  0.703849  1.000000  0.819552   0.076069   \n",
       "lambda      0.229881    0.502504  0.653835  0.819552  1.000000   0.002739   \n",
       "sample.yr  -0.125051    0.043304  0.072409  0.076069  0.002739   1.000000   \n",
       "death       0.539427    0.157080  0.279271  0.284790  0.256982  -0.121811   \n",
       "futime     -0.405917   -0.190837 -0.284912 -0.324305 -0.279041  -0.315571   \n",
       "\n",
       "               death    futime  \n",
       "age         0.539427 -0.405917  \n",
       "creatinine  0.157080 -0.190837  \n",
       "flc.grp     0.279271 -0.284912  \n",
       "kappa       0.284790 -0.324305  \n",
       "lambda      0.256982 -0.279041  \n",
       "sample.yr  -0.121811 -0.315571  \n",
       "death       1.000000 -0.639805  \n",
       "futime     -0.639805  1.000000  "
      ]
     },
     "execution_count": 10,
     "metadata": {},
     "output_type": "execute_result"
    }
   ],
   "source": [
    "df.corr()"
   ]
  },
  {
   "cell_type": "code",
   "execution_count": 11,
   "metadata": {},
   "outputs": [
    {
     "data": {
      "image/png": "[encoded data removed]",
      "text/plain": [
       "<Figure size 432x288 with 2 Axes>"
      ]
     },
     "metadata": {
      "needs_background": "light"
     },
     "output_type": "display_data"
    }
   ],
   "source": [
    "corrMatrix = df.corr()\n",
    "\n",
    "sn.heatmap(corrMatrix, annot=True)\n",
    "plt.title(\"Correlations between all numeric values\")\n",
    "plt.show()"
   ]
  },
  {
   "cell_type": "markdown",
   "metadata": {},
   "source": [
    "*Kappa* and *lambda* are strongly correlated with eachother. From the paper and from plotting I can see that flc.grp is just the sum of kappa and lambda together, binned into deciles. I want to get rid of these arbitrary bins and return this value to its raw form, which is better practice in predictive modelling. Here I also create a new variable called kl_ratio representing the ratio between kappa and lambda, which is also indicated in the paper as of clinical importance.\n",
    "\n",
    "As the paper also mentions potential interactive effects between the sum and the ratio of kappa to lambda, I have also created an interaction variable called *kl_interaction*."
   ]
  },
  {
   "cell_type": "code",
   "execution_count": 12,
   "metadata": {},
   "outputs": [],
   "source": [
    "df['kl_sum'] = df['kappa'] + df['lambda']\n",
    "df['kl_ratio'] = df['kappa'] / df['lambda']\n",
    "df['kl_interaction'] = df['kl_sum'] * df['kl_ratio']"
   ]
  },
  {
   "cell_type": "markdown",
   "metadata": {},
   "source": [
    "Tabulating the correlations again, we can see that the new variables *kl_sum* and *kl_ratio* have removed the problem of collinearity posed by *kappa* and *lambda*. However, the interaction variable (as one might expect) is strongly correlated with these two variables as well as with _creatinine_. "
   ]
  },
  {
   "cell_type": "code",
   "execution_count": 13,
   "metadata": {
    "scrolled": true
   },
   "outputs": [
    {
     "data": {
      "text/html": [
       "<div>\n",
       "<style scoped>\n",
       "    .dataframe tbody tr th:only-of-type {\n",
       "        vertical-align: middle;\n",
       "    }\n",
       "\n",
       "    .dataframe tbody tr th {\n",
       "        vertical-align: top;\n",
       "    }\n",
       "\n",
       "    .dataframe thead th {\n",
       "        text-align: right;\n",
       "    }\n",
       "</style>\n",
       "<table border=\"1\" class=\"dataframe\">\n",
       "  <thead>\n",
       "    <tr style=\"text-align: right;\">\n",
       "      <th></th>\n",
       "      <th>age</th>\n",
       "      <th>creatinine</th>\n",
       "      <th>flc.grp</th>\n",
       "      <th>kappa</th>\n",
       "      <th>lambda</th>\n",
       "      <th>sample.yr</th>\n",
       "      <th>death</th>\n",
       "      <th>futime</th>\n",
       "      <th>kl_sum</th>\n",
       "      <th>kl_ratio</th>\n",
       "      <th>kl_interaction</th>\n",
       "    </tr>\n",
       "  </thead>\n",
       "  <tbody>\n",
       "    <tr>\n",
       "      <th>age</th>\n",
       "      <td>1.000000</td>\n",
       "      <td>0.116439</td>\n",
       "      <td>0.317990</td>\n",
       "      <td>0.279997</td>\n",
       "      <td>0.229881</td>\n",
       "      <td>-0.125051</td>\n",
       "      <td>0.539427</td>\n",
       "      <td>-0.405917</td>\n",
       "      <td>0.264777</td>\n",
       "      <td>0.016453</td>\n",
       "      <td>0.241215</td>\n",
       "    </tr>\n",
       "    <tr>\n",
       "      <th>creatinine</th>\n",
       "      <td>0.116439</td>\n",
       "      <td>1.000000</td>\n",
       "      <td>0.259453</td>\n",
       "      <td>0.553277</td>\n",
       "      <td>0.502504</td>\n",
       "      <td>0.043304</td>\n",
       "      <td>0.157080</td>\n",
       "      <td>-0.190837</td>\n",
       "      <td>0.550158</td>\n",
       "      <td>0.049788</td>\n",
       "      <td>0.480236</td>\n",
       "    </tr>\n",
       "    <tr>\n",
       "      <th>flc.grp</th>\n",
       "      <td>0.317990</td>\n",
       "      <td>0.259453</td>\n",
       "      <td>1.000000</td>\n",
       "      <td>0.703849</td>\n",
       "      <td>0.653835</td>\n",
       "      <td>0.072409</td>\n",
       "      <td>0.279271</td>\n",
       "      <td>-0.284912</td>\n",
       "      <td>0.709715</td>\n",
       "      <td>0.028100</td>\n",
       "      <td>0.583820</td>\n",
       "    </tr>\n",
       "    <tr>\n",
       "      <th>kappa</th>\n",
       "      <td>0.279997</td>\n",
       "      <td>0.553277</td>\n",
       "      <td>0.703849</td>\n",
       "      <td>1.000000</td>\n",
       "      <td>0.819552</td>\n",
       "      <td>0.076069</td>\n",
       "      <td>0.284790</td>\n",
       "      <td>-0.324305</td>\n",
       "      <td>0.947021</td>\n",
       "      <td>0.144082</td>\n",
       "      <td>0.892660</td>\n",
       "    </tr>\n",
       "    <tr>\n",
       "      <th>lambda</th>\n",
       "      <td>0.229881</td>\n",
       "      <td>0.502504</td>\n",
       "      <td>0.653835</td>\n",
       "      <td>0.819552</td>\n",
       "      <td>1.000000</td>\n",
       "      <td>0.002739</td>\n",
       "      <td>0.256982</td>\n",
       "      <td>-0.279041</td>\n",
       "      <td>0.960166</td>\n",
       "      <td>-0.105287</td>\n",
       "      <td>0.614574</td>\n",
       "    </tr>\n",
       "    <tr>\n",
       "      <th>sample.yr</th>\n",
       "      <td>-0.125051</td>\n",
       "      <td>0.043304</td>\n",
       "      <td>0.072409</td>\n",
       "      <td>0.076069</td>\n",
       "      <td>0.002739</td>\n",
       "      <td>1.000000</td>\n",
       "      <td>-0.121811</td>\n",
       "      <td>-0.315571</td>\n",
       "      <td>0.038631</td>\n",
       "      <td>0.065388</td>\n",
       "      <td>0.085910</td>\n",
       "    </tr>\n",
       "    <tr>\n",
       "      <th>death</th>\n",
       "      <td>0.539427</td>\n",
       "      <td>0.157080</td>\n",
       "      <td>0.279271</td>\n",
       "      <td>0.284790</td>\n",
       "      <td>0.256982</td>\n",
       "      <td>-0.121811</td>\n",
       "      <td>1.000000</td>\n",
       "      <td>-0.639805</td>\n",
       "      <td>0.282920</td>\n",
       "      <td>0.020537</td>\n",
       "      <td>0.242120</td>\n",
       "    </tr>\n",
       "    <tr>\n",
       "      <th>futime</th>\n",
       "      <td>-0.405917</td>\n",
       "      <td>-0.190837</td>\n",
       "      <td>-0.284912</td>\n",
       "      <td>-0.324305</td>\n",
       "      <td>-0.279041</td>\n",
       "      <td>-0.315571</td>\n",
       "      <td>-0.639805</td>\n",
       "      <td>1.000000</td>\n",
       "      <td>-0.314554</td>\n",
       "      <td>-0.041107</td>\n",
       "      <td>-0.280298</td>\n",
       "    </tr>\n",
       "    <tr>\n",
       "      <th>kl_sum</th>\n",
       "      <td>0.264777</td>\n",
       "      <td>0.550158</td>\n",
       "      <td>0.709715</td>\n",
       "      <td>0.947021</td>\n",
       "      <td>0.960166</td>\n",
       "      <td>0.038631</td>\n",
       "      <td>0.282920</td>\n",
       "      <td>-0.314554</td>\n",
       "      <td>1.000000</td>\n",
       "      <td>0.011249</td>\n",
       "      <td>0.779785</td>\n",
       "    </tr>\n",
       "    <tr>\n",
       "      <th>kl_ratio</th>\n",
       "      <td>0.016453</td>\n",
       "      <td>0.049788</td>\n",
       "      <td>0.028100</td>\n",
       "      <td>0.144082</td>\n",
       "      <td>-0.105287</td>\n",
       "      <td>0.065388</td>\n",
       "      <td>0.020537</td>\n",
       "      <td>-0.041107</td>\n",
       "      <td>0.011249</td>\n",
       "      <td>1.000000</td>\n",
       "      <td>0.541285</td>\n",
       "    </tr>\n",
       "    <tr>\n",
       "      <th>kl_interaction</th>\n",
       "      <td>0.241215</td>\n",
       "      <td>0.480236</td>\n",
       "      <td>0.583820</td>\n",
       "      <td>0.892660</td>\n",
       "      <td>0.614574</td>\n",
       "      <td>0.085910</td>\n",
       "      <td>0.242120</td>\n",
       "      <td>-0.280298</td>\n",
       "      <td>0.779785</td>\n",
       "      <td>0.541285</td>\n",
       "      <td>1.000000</td>\n",
       "    </tr>\n",
       "  </tbody>\n",
       "</table>\n",
       "</div>"
      ],
      "text/plain": [
       "                     age  creatinine   flc.grp     kappa    lambda  sample.yr  \\\n",
       "age             1.000000    0.116439  0.317990  0.279997  0.229881  -0.125051   \n",
       "creatinine      0.116439    1.000000  0.259453  0.553277  0.502504   0.043304   \n",
       "flc.grp         0.317990    0.259453  1.000000  0.703849  0.653835   0.072409   \n",
       "kappa           0.279997    0.553277  0.703849  1.000000  0.819552   0.076069   \n",
       "lambda          0.229881    0.502504  0.653835  0.819552  1.000000   0.002739   \n",
       "sample.yr      -0.125051    0.043304  0.072409  0.076069  0.002739   1.000000   \n",
       "death           0.539427    0.157080  0.279271  0.284790  0.256982  -0.121811   \n",
       "futime         -0.405917   -0.190837 -0.284912 -0.324305 -0.279041  -0.315571   \n",
       "kl_sum          0.264777    0.550158  0.709715  0.947021  0.960166   0.038631   \n",
       "kl_ratio        0.016453    0.049788  0.028100  0.144082 -0.105287   0.065388   \n",
       "kl_interaction  0.241215    0.480236  0.583820  0.892660  0.614574   0.085910   \n",
       "\n",
       "                   death    futime    kl_sum  kl_ratio  kl_interaction  \n",
       "age             0.539427 -0.405917  0.264777  0.016453        0.241215  \n",
       "creatinine      0.157080 -0.190837  0.550158  0.049788        0.480236  \n",
       "flc.grp         0.279271 -0.284912  0.709715  0.028100        0.583820  \n",
       "kappa           0.284790 -0.324305  0.947021  0.144082        0.892660  \n",
       "lambda          0.256982 -0.279041  0.960166 -0.105287        0.614574  \n",
       "sample.yr      -0.121811 -0.315571  0.038631  0.065388        0.085910  \n",
       "death           1.000000 -0.639805  0.282920  0.020537        0.242120  \n",
       "futime         -0.639805  1.000000 -0.314554 -0.041107       -0.280298  \n",
       "kl_sum          0.282920 -0.314554  1.000000  0.011249        0.779785  \n",
       "kl_ratio        0.020537 -0.041107  0.011249  1.000000        0.541285  \n",
       "kl_interaction  0.242120 -0.280298  0.779785  0.541285        1.000000  "
      ]
     },
     "execution_count": 13,
     "metadata": {},
     "output_type": "execute_result"
    }
   ],
   "source": [
    "# Check correlations of new variables\n",
    "df.corr()"
   ]
  },
  {
   "cell_type": "markdown",
   "metadata": {},
   "source": [
    "##### Missing data\n",
    "Age and creatinine are missing for the same ~17% of individuals. I'm going to use multiple imputation later on to handle these, but I'll wait until I've split the train and test sets so there is no data leakage into the test set."
   ]
  },
  {
   "cell_type": "code",
   "execution_count": 14,
   "metadata": {},
   "outputs": [
    {
     "data": {
      "text/plain": [
       "age               1350\n",
       "chapter           5705\n",
       "creatinine        1350\n",
       "flc.grp              0\n",
       "kappa                0\n",
       "lambda               0\n",
       "mgus                 0\n",
       "sample.yr            0\n",
       "sex                  0\n",
       "death                0\n",
       "futime               0\n",
       "kl_sum               0\n",
       "kl_ratio             0\n",
       "kl_interaction       0\n",
       "dtype: int64"
      ]
     },
     "execution_count": 14,
     "metadata": {},
     "output_type": "execute_result"
    }
   ],
   "source": [
    "df.isnull().sum()"
   ]
  },
  {
   "cell_type": "markdown",
   "metadata": {},
   "source": [
    "##### Define new outcome variable"
   ]
  },
  {
   "cell_type": "code",
   "execution_count": 15,
   "metadata": {},
   "outputs": [
    {
     "data": {
      "text/plain": [
       "False    7129\n",
       "True      745\n",
       "Name: circ_death, dtype: int64"
      ]
     },
     "execution_count": 15,
     "metadata": {},
     "output_type": "execute_result"
    }
   ],
   "source": [
    "df['circ_death'] = np.where((df.death == True) & ((df.chapter == 'Circulatory')), True, False)\n",
    "\n",
    "df.circ_death.value_counts() # 745 deaths from circulatory causes"
   ]
  },
  {
   "cell_type": "markdown",
   "metadata": {},
   "source": [
    "### Estimating seven-year risk of death from circulatory cause with a Kaplan Meier curve\n",
    "\n",
    "The estimated curve is a step function, with steps occurring at time points where one or more patients died. Probability of dying from a circulatory cause increases linearly over this time.\n",
    "\n",
    "While patients in this dataset have been followed up for 14 years, we can estimate their risk of death at **seven years** using a KM curve. Overall, seven-year risk of death from circulatory causes is around 6.3% in this population."
   ]
  },
  {
   "cell_type": "code",
   "execution_count": 38,
   "metadata": {
    "scrolled": true
   },
   "outputs": [
    {
     "data": {
      "text/plain": [
       "Text(0.5, 15.0, '')"
      ]
     },
     "execution_count": 38,
     "metadata": {},
     "output_type": "execute_result"
    },
    {
     "data": {
      "image/png": "[encoded data removed]",
      "text/plain": [
       "<Figure size 720x288 with 2 Axes>"
      ]
     },
     "metadata": {
      "needs_background": "light"
     },
     "output_type": "display_data"
    }
   ],
   "source": [
    "from matplotlib.pyplot import figure\n",
    "\n",
    "\n",
    "figure(figsize=(10,4))\n",
    "\n",
    "ax = plt.subplot(111)\n",
    "\n",
    "kmf = KaplanMeierFitter()\n",
    "kmf.fit(durations = df.futime, event_observed = df.circ_death)\n",
    "kmf.plot_survival_function(ax = ax)\n",
    "from lifelines.plotting import add_at_risk_counts\n",
    "add_at_risk_counts(kmf, ax=ax)\n",
    "plt.tight_layout()\n",
    "plt.title('Survival function for death from a circulatory cause')\n",
    "plt.ylabel(\"Est. probability of survival $\\hat{S}(t)$\")\n",
    "plt.xlabel(\"Time $t$\")\n",
    "plt.axvline(x= 365.25 * 7, linestyle = 'dashed')\n",
    "ax.set_ylabel(\"Est. probability of survival $\\hat{S}(t)$\")\n",
    "ax.set_xlabel(\"\")\n"
   ]
  },
  {
   "cell_type": "markdown",
   "metadata": {},
   "source": [
    "##### How does death from a circulatory cause compare with other causes of death?\n",
    "As shown in the plot below, participants in the study are more likely to die from a few other causes faster than they would from a circulatory disorder. It's not implausible that participants who die from one disorder would be more likely to die from a circulatory disorder. These 'competing risks' create problems for left censoring - discussed later in *Limitations*."
   ]
  },
  {
   "cell_type": "code",
   "execution_count": 17,
   "metadata": {
    "scrolled": true
   },
   "outputs": [
    {
     "data": {
      "text/plain": [
       "<matplotlib.legend.Legend at 0x7f93306263a0>"
      ]
     },
     "execution_count": 17,
     "metadata": {},
     "output_type": "execute_result"
    },
    {
     "data": {
      "image/png": "[encoded data removed]",
      "text/plain": [
       "<Figure size 792x288 with 1 Axes>"
      ]
     },
     "metadata": {
      "needs_background": "light"
     },
     "output_type": "display_data"
    }
   ],
   "source": [
    "figure(figsize=(11,4))\n",
    "\n",
    "chapter = df.chapter.unique()\n",
    "chapter = [x for x in chapter if pd.isnull(x) == False]\n",
    "\n",
    "for treatment_type in (chapter):\n",
    "    mask_treat = df[\"chapter\"] == treatment_type\n",
    "    time_treatment, survival_prob_treatment = kaplan_meier_estimator(\n",
    "        df[\"death\"][mask_treat],\n",
    "        df[\"futime\"][mask_treat])\n",
    "\n",
    "    plt.step(time_treatment, survival_prob_treatment, where=\"post\",\n",
    "             label= treatment_type)\n",
    "\n",
    "plt.ylabel(\"Est. probability of survival $\\hat{S}(t)$\")\n",
    "plt.xlabel(\"Time $t$\")\n",
    "plt.title(\"Estimated probability of survival for each cause of death\")\n",
    "plt.legend(title = 'Cause of death', loc=\"right\", bbox_to_anchor = (1.3, 0.5))"
   ]
  },
  {
   "cell_type": "markdown",
   "metadata": {},
   "source": [
    "# Multivariate Survival Modelling\n",
    "\n",
    "First let's split the data into derivation (train) and validation (test) sets. \n",
    "\n",
    "There are numerous ways to approach this, such as randomly splitting the data in a way that ensures equivalent class balance in each group. However, an **external temporal validation** will be most robust. \n",
    "\n",
    "A good survival model should be flexible to developing clinical, technological and sociopolitical trends. Most of the data in this study are collected in the late 90s, so it will be particularly interesting to see how the model performs at predicting outcomes for more recent cohorts. For example, it's likely that over time there will be developments in how patients are assessed and treated, with relevant impacts on outcomes.\n",
    "\n",
    "Allocating the last few years of data (1999 to 2003) as an external validation set will comprise around ~14% of the total data and 6% of total circulatory death events.\n",
    "\n",
    "At the same time, we perform **a priori feature selection** using predictors previously deemed to be of importance in the literature. I'm including the kl_interaction variable despite its collinearity to see what happens."
   ]
  },
  {
   "cell_type": "code",
   "execution_count": 18,
   "metadata": {},
   "outputs": [],
   "source": [
    "exclude_years = 1999, 2000, 2001, 2002, 2003\n",
    "\n",
    "train_y = df[df[\"sample.yr\"].isin(exclude_years) == False].filter(['circ_death', 'futime'])\n",
    "\n",
    "train_x = df[df[\"sample.yr\"].isin(exclude_years) == False].filter(['age','sex','kl_sum', 'kl_ratio', 'kl_interaction', 'mgus', 'creatinine']) \n",
    "\n",
    "test_y = df[df[\"sample.yr\"].isin(exclude_years)].drop(columns = ['chapter']).filter(['circ_death', 'futime'])\n",
    "\n",
    "test_x = df[df[\"sample.yr\"].isin(exclude_years)].drop(columns = ['chapter']).filter(['age', 'sex','kl_sum', 'kl_ratio', 'kl_interaction', 'mgus', 'creatinine'])"
   ]
  },
  {
   "cell_type": "code",
   "execution_count": 19,
   "metadata": {},
   "outputs": [
    {
     "data": {
      "text/html": [
       "<div>\n",
       "<style scoped>\n",
       "    .dataframe tbody tr th:only-of-type {\n",
       "        vertical-align: middle;\n",
       "    }\n",
       "\n",
       "    .dataframe tbody tr th {\n",
       "        vertical-align: top;\n",
       "    }\n",
       "\n",
       "    .dataframe thead th {\n",
       "        text-align: right;\n",
       "    }\n",
       "</style>\n",
       "<table border=\"1\" class=\"dataframe\">\n",
       "  <thead>\n",
       "    <tr style=\"text-align: right;\">\n",
       "      <th></th>\n",
       "      <th>age</th>\n",
       "      <th>sex</th>\n",
       "      <th>kl_sum</th>\n",
       "      <th>kl_ratio</th>\n",
       "      <th>kl_interaction</th>\n",
       "      <th>mgus</th>\n",
       "      <th>creatinine</th>\n",
       "    </tr>\n",
       "  </thead>\n",
       "  <tbody>\n",
       "    <tr>\n",
       "      <th>0</th>\n",
       "      <td>97.0</td>\n",
       "      <td>F</td>\n",
       "      <td>10.560</td>\n",
       "      <td>1.172840</td>\n",
       "      <td>12.385185</td>\n",
       "      <td>no</td>\n",
       "      <td>1.7</td>\n",
       "    </tr>\n",
       "    <tr>\n",
       "      <th>2</th>\n",
       "      <td>94.0</td>\n",
       "      <td>F</td>\n",
       "      <td>8.210</td>\n",
       "      <td>1.132468</td>\n",
       "      <td>9.297558</td>\n",
       "      <td>no</td>\n",
       "      <td>1.4</td>\n",
       "    </tr>\n",
       "    <tr>\n",
       "      <th>3</th>\n",
       "      <td>92.0</td>\n",
       "      <td>F</td>\n",
       "      <td>4.640</td>\n",
       "      <td>1.090090</td>\n",
       "      <td>5.058018</td>\n",
       "      <td>no</td>\n",
       "      <td>1.0</td>\n",
       "    </tr>\n",
       "    <tr>\n",
       "      <th>4</th>\n",
       "      <td>93.0</td>\n",
       "      <td>F</td>\n",
       "      <td>3.010</td>\n",
       "      <td>0.781065</td>\n",
       "      <td>2.351006</td>\n",
       "      <td>no</td>\n",
       "      <td>1.1</td>\n",
       "    </tr>\n",
       "    <tr>\n",
       "      <th>5</th>\n",
       "      <td>90.0</td>\n",
       "      <td>F</td>\n",
       "      <td>3.870</td>\n",
       "      <td>1.080645</td>\n",
       "      <td>4.182097</td>\n",
       "      <td>no</td>\n",
       "      <td>1.0</td>\n",
       "    </tr>\n",
       "    <tr>\n",
       "      <th>...</th>\n",
       "      <td>...</td>\n",
       "      <td>...</td>\n",
       "      <td>...</td>\n",
       "      <td>...</td>\n",
       "      <td>...</td>\n",
       "      <td>...</td>\n",
       "      <td>...</td>\n",
       "    </tr>\n",
       "    <tr>\n",
       "      <th>7867</th>\n",
       "      <td>53.0</td>\n",
       "      <td>F</td>\n",
       "      <td>1.955</td>\n",
       "      <td>0.564000</td>\n",
       "      <td>1.102620</td>\n",
       "      <td>no</td>\n",
       "      <td>0.8</td>\n",
       "    </tr>\n",
       "    <tr>\n",
       "      <th>7868</th>\n",
       "      <td>52.0</td>\n",
       "      <td>F</td>\n",
       "      <td>1.816</td>\n",
       "      <td>0.763107</td>\n",
       "      <td>1.385802</td>\n",
       "      <td>no</td>\n",
       "      <td>0.7</td>\n",
       "    </tr>\n",
       "    <tr>\n",
       "      <th>7869</th>\n",
       "      <td>52.0</td>\n",
       "      <td>F</td>\n",
       "      <td>2.820</td>\n",
       "      <td>0.751553</td>\n",
       "      <td>2.119379</td>\n",
       "      <td>no</td>\n",
       "      <td>1.0</td>\n",
       "    </tr>\n",
       "    <tr>\n",
       "      <th>7872</th>\n",
       "      <td>NaN</td>\n",
       "      <td>F</td>\n",
       "      <td>4.400</td>\n",
       "      <td>0.635688</td>\n",
       "      <td>2.797026</td>\n",
       "      <td>no</td>\n",
       "      <td>NaN</td>\n",
       "    </tr>\n",
       "    <tr>\n",
       "      <th>7873</th>\n",
       "      <td>50.0</td>\n",
       "      <td>F</td>\n",
       "      <td>2.440</td>\n",
       "      <td>0.952000</td>\n",
       "      <td>2.322880</td>\n",
       "      <td>no</td>\n",
       "      <td>0.7</td>\n",
       "    </tr>\n",
       "  </tbody>\n",
       "</table>\n",
       "<p>6834 rows × 7 columns</p>\n",
       "</div>"
      ],
      "text/plain": [
       "       age sex  kl_sum  kl_ratio  kl_interaction mgus  creatinine\n",
       "0     97.0   F  10.560  1.172840       12.385185   no         1.7\n",
       "2     94.0   F   8.210  1.132468        9.297558   no         1.4\n",
       "3     92.0   F   4.640  1.090090        5.058018   no         1.0\n",
       "4     93.0   F   3.010  0.781065        2.351006   no         1.1\n",
       "5     90.0   F   3.870  1.080645        4.182097   no         1.0\n",
       "...    ...  ..     ...       ...             ...  ...         ...\n",
       "7867  53.0   F   1.955  0.564000        1.102620   no         0.8\n",
       "7868  52.0   F   1.816  0.763107        1.385802   no         0.7\n",
       "7869  52.0   F   2.820  0.751553        2.119379   no         1.0\n",
       "7872   NaN   F   4.400  0.635688        2.797026   no         NaN\n",
       "7873  50.0   F   2.440  0.952000        2.322880   no         0.7\n",
       "\n",
       "[6834 rows x 7 columns]"
      ]
     },
     "execution_count": 19,
     "metadata": {},
     "output_type": "execute_result"
    }
   ],
   "source": [
    "train_x"
   ]
  },
  {
   "cell_type": "code",
   "execution_count": 20,
   "metadata": {},
   "outputs": [
    {
     "name": "stdout",
     "output_type": "stream",
     "text": [
      "Rows in training set = 6834\n",
      "Rows in test set = 1040\n",
      "False    6130\n",
      "True      704\n",
      "Name: circ_death, dtype: int64\n",
      "False    999\n",
      "True      41\n",
      "Name: circ_death, dtype: int64\n"
     ]
    }
   ],
   "source": [
    "print(f'Rows in training set = {len(train_x)}')\n",
    "print(f'Rows in test set = {len(test_x)}')\n",
    "print(train_y['circ_death'].value_counts()) # 704 death events\n",
    "print(test_y['circ_death'].value_counts()) # 41 death events"
   ]
  },
  {
   "cell_type": "code",
   "execution_count": 21,
   "metadata": {},
   "outputs": [],
   "source": [
    "train_x = OneHotEncoder().fit_transform(train_x) # We convert categorical variables in the data set into numeric values.\n",
    "\n",
    "test_x = OneHotEncoder().fit_transform(test_x) # We convert categorical variables in the data set into numeric values."
   ]
  },
  {
   "cell_type": "markdown",
   "metadata": {},
   "source": [
    "#### Multiple imputation of missing data\n",
    "\n",
    "I perform multiple imputation on the train and test sets separately to avoid data leakage into the test set.\n",
    "\n",
    "*(In a real-life scenario, I would want to explore a number of different approaches to handling missing data, but for the sake of this prototype model I will keep things simple with my usual method of choice.)*"
   ]
  },
  {
   "cell_type": "code",
   "execution_count": 22,
   "metadata": {},
   "outputs": [],
   "source": [
    "# Initialize IterativeImputer\n",
    "mice_imputer = IterativeImputer()\n",
    "\n",
    "# Impute using fit_tranform on diabetes\n",
    "train_x.iloc[:, :] = mice_imputer.fit_transform(train_x)\n",
    "test_x.iloc[:, :] = mice_imputer.fit_transform(test_x)"
   ]
  },
  {
   "cell_type": "code",
   "execution_count": 23,
   "metadata": {},
   "outputs": [],
   "source": [
    "train_y = Surv.from_dataframe(\"circ_death\", \"futime\", train_y)\n",
    "test_y = Surv.from_dataframe(\"circ_death\", \"futime\", test_y)"
   ]
  },
  {
   "cell_type": "markdown",
   "metadata": {},
   "source": [
    "## Model fitting\n",
    "\n",
    "Survival models are indicated for longitudinal time-to-event data."
   ]
  },
  {
   "cell_type": "markdown",
   "metadata": {},
   "source": [
    "### The most interpretable choice: Cox Proportional Hazards Regression\n",
    "\n",
    "Cox’s proportional hazard’s model is often the most appealing choice due to its high interpretability. Its coefficients can be interpreted in terms of hazard ratios, which can provide valuable insight, especially in the context of providing tailored recommendations in an app-based setting for reducing the risk conferred by individual predictors.\n",
    "\n",
    "#### Fit the model"
   ]
  },
  {
   "cell_type": "code",
   "execution_count": 24,
   "metadata": {},
   "outputs": [
    {
     "data": {
      "text/plain": [
       "CoxPHSurvivalAnalysis()"
      ]
     },
     "execution_count": 24,
     "metadata": {},
     "output_type": "execute_result"
    }
   ],
   "source": [
    "cph = CoxPHSurvivalAnalysis()\n",
    "cph.fit(train_x, train_y)"
   ]
  },
  {
   "cell_type": "markdown",
   "metadata": {},
   "source": [
    "#### Evaluating proportional hazards assumption using Schoefeld Residuals\n",
    "I couldn't get the requisite package to work in Python at this point, but evaluating the proportional hazards assumption is a necessary step for using a Cox proportional hazards model. Using the cox.zph() function in R I was able to determine fortunately that none of my chosen features violate the PH assumption."
   ]
  },
  {
   "cell_type": "markdown",
   "metadata": {},
   "source": [
    "#### Which variable is most predictive?"
   ]
  },
  {
   "cell_type": "code",
   "execution_count": 25,
   "metadata": {},
   "outputs": [
    {
     "data": {
      "text/plain": [
       "age               0.805925\n",
       "kl_sum            0.707229\n",
       "kl_interaction    0.692091\n",
       "creatinine        0.649904\n",
       "kl_ratio          0.565412\n",
       "sex=M             0.509742\n",
       "mgus=yes          0.504773\n",
       "dtype: float64"
      ]
     },
     "execution_count": 25,
     "metadata": {},
     "output_type": "execute_result"
    }
   ],
   "source": [
    "import numpy as np\n",
    "\n",
    "def fit_and_score_features(X, y):\n",
    "    n_features = X.shape[1]\n",
    "    scores = np.empty(n_features)\n",
    "    m = CoxPHSurvivalAnalysis()\n",
    "    for j in range(n_features):\n",
    "        Xj = X[:, j:j+1]\n",
    "        m.fit(Xj, y)\n",
    "        scores[j] = m.score(Xj, y)\n",
    "    return scores\n",
    "\n",
    "scores = fit_and_score_features(train_x.values, train_y)\n",
    "pd.Series(scores, index= train_x.columns).sort_values(ascending=False)"
   ]
  },
  {
   "cell_type": "markdown",
   "metadata": {},
   "source": [
    "#### Additional step: Feature reduction\n",
    "Here I use a grid search and k-fold cross validation (importantly, using just training data to avoid data leakage) to identify a more parsimonious model that excludes irrelevant features. Unfortunately as *age* and *creatinine* have imputed missing values, there will be some data leakage across folds. A more sophisticated development would incorporate imputation into the pipeline for each fold."
   ]
  },
  {
   "cell_type": "code",
   "execution_count": 26,
   "metadata": {},
   "outputs": [],
   "source": [
    "from sklearn.feature_selection import SelectKBest\n",
    "from sklearn.pipeline import Pipeline\n",
    "\n",
    "pipe = Pipeline([('encode', OneHotEncoder()),\n",
    "                 ('select', SelectKBest(fit_and_score_features, k=3)),\n",
    "                 ('model', CoxPHSurvivalAnalysis())])"
   ]
  },
  {
   "cell_type": "code",
   "execution_count": 27,
   "metadata": {},
   "outputs": [
    {
     "data": {
      "text/html": [
       "<div>\n",
       "<style scoped>\n",
       "    .dataframe tbody tr th:only-of-type {\n",
       "        vertical-align: middle;\n",
       "    }\n",
       "\n",
       "    .dataframe tbody tr th {\n",
       "        vertical-align: top;\n",
       "    }\n",
       "\n",
       "    .dataframe thead th {\n",
       "        text-align: right;\n",
       "    }\n",
       "</style>\n",
       "<table border=\"1\" class=\"dataframe\">\n",
       "  <thead>\n",
       "    <tr style=\"text-align: right;\">\n",
       "      <th></th>\n",
       "      <th>param_select__k</th>\n",
       "      <th>params</th>\n",
       "      <th>split0_test_score</th>\n",
       "      <th>split1_test_score</th>\n",
       "      <th>split2_test_score</th>\n",
       "      <th>mean_test_score</th>\n",
       "      <th>std_test_score</th>\n",
       "      <th>rank_test_score</th>\n",
       "      <th>split0_train_score</th>\n",
       "      <th>split1_train_score</th>\n",
       "      <th>split2_train_score</th>\n",
       "      <th>mean_train_score</th>\n",
       "      <th>std_train_score</th>\n",
       "    </tr>\n",
       "  </thead>\n",
       "  <tbody>\n",
       "    <tr>\n",
       "      <th>5</th>\n",
       "      <td>6</td>\n",
       "      <td>{'select__k': 6}</td>\n",
       "      <td>0.829981</td>\n",
       "      <td>0.805741</td>\n",
       "      <td>0.831506</td>\n",
       "      <td>0.822409</td>\n",
       "      <td>0.011803</td>\n",
       "      <td>1</td>\n",
       "      <td>0.818623</td>\n",
       "      <td>0.831002</td>\n",
       "      <td>0.818226</td>\n",
       "      <td>0.822617</td>\n",
       "      <td>0.005931</td>\n",
       "    </tr>\n",
       "    <tr>\n",
       "      <th>6</th>\n",
       "      <td>7</td>\n",
       "      <td>{'select__k': 7}</td>\n",
       "      <td>0.830047</td>\n",
       "      <td>0.805633</td>\n",
       "      <td>0.831304</td>\n",
       "      <td>0.822328</td>\n",
       "      <td>0.011817</td>\n",
       "      <td>2</td>\n",
       "      <td>0.818630</td>\n",
       "      <td>0.831013</td>\n",
       "      <td>0.818503</td>\n",
       "      <td>0.822715</td>\n",
       "      <td>0.005867</td>\n",
       "    </tr>\n",
       "    <tr>\n",
       "      <th>4</th>\n",
       "      <td>5</td>\n",
       "      <td>{'select__k': 5}</td>\n",
       "      <td>0.828507</td>\n",
       "      <td>0.799439</td>\n",
       "      <td>0.826948</td>\n",
       "      <td>0.818298</td>\n",
       "      <td>0.013351</td>\n",
       "      <td>3</td>\n",
       "      <td>0.812564</td>\n",
       "      <td>0.828081</td>\n",
       "      <td>0.814207</td>\n",
       "      <td>0.818284</td>\n",
       "      <td>0.006960</td>\n",
       "    </tr>\n",
       "    <tr>\n",
       "      <th>3</th>\n",
       "      <td>4</td>\n",
       "      <td>{'select__k': 4}</td>\n",
       "      <td>0.828222</td>\n",
       "      <td>0.799131</td>\n",
       "      <td>0.827315</td>\n",
       "      <td>0.818223</td>\n",
       "      <td>0.013505</td>\n",
       "      <td>4</td>\n",
       "      <td>0.812525</td>\n",
       "      <td>0.827412</td>\n",
       "      <td>0.814284</td>\n",
       "      <td>0.818074</td>\n",
       "      <td>0.006642</td>\n",
       "    </tr>\n",
       "    <tr>\n",
       "      <th>1</th>\n",
       "      <td>2</td>\n",
       "      <td>{'select__k': 2}</td>\n",
       "      <td>0.827742</td>\n",
       "      <td>0.798655</td>\n",
       "      <td>0.826830</td>\n",
       "      <td>0.817742</td>\n",
       "      <td>0.013502</td>\n",
       "      <td>5</td>\n",
       "      <td>0.812258</td>\n",
       "      <td>0.826461</td>\n",
       "      <td>0.812801</td>\n",
       "      <td>0.817173</td>\n",
       "      <td>0.006571</td>\n",
       "    </tr>\n",
       "    <tr>\n",
       "      <th>2</th>\n",
       "      <td>3</td>\n",
       "      <td>{'select__k': 3}</td>\n",
       "      <td>0.827564</td>\n",
       "      <td>0.798528</td>\n",
       "      <td>0.827012</td>\n",
       "      <td>0.817701</td>\n",
       "      <td>0.013559</td>\n",
       "      <td>6</td>\n",
       "      <td>0.812330</td>\n",
       "      <td>0.826602</td>\n",
       "      <td>0.813193</td>\n",
       "      <td>0.817375</td>\n",
       "      <td>0.006534</td>\n",
       "    </tr>\n",
       "    <tr>\n",
       "      <th>0</th>\n",
       "      <td>1</td>\n",
       "      <td>{'select__k': 1}</td>\n",
       "      <td>0.816652</td>\n",
       "      <td>0.787469</td>\n",
       "      <td>0.816525</td>\n",
       "      <td>0.806882</td>\n",
       "      <td>0.013727</td>\n",
       "      <td>7</td>\n",
       "      <td>0.801164</td>\n",
       "      <td>0.816486</td>\n",
       "      <td>0.800859</td>\n",
       "      <td>0.806170</td>\n",
       "      <td>0.007296</td>\n",
       "    </tr>\n",
       "  </tbody>\n",
       "</table>\n",
       "</div>"
      ],
      "text/plain": [
       "  param_select__k            params  split0_test_score  split1_test_score  \\\n",
       "5               6  {'select__k': 6}           0.829981           0.805741   \n",
       "6               7  {'select__k': 7}           0.830047           0.805633   \n",
       "4               5  {'select__k': 5}           0.828507           0.799439   \n",
       "3               4  {'select__k': 4}           0.828222           0.799131   \n",
       "1               2  {'select__k': 2}           0.827742           0.798655   \n",
       "2               3  {'select__k': 3}           0.827564           0.798528   \n",
       "0               1  {'select__k': 1}           0.816652           0.787469   \n",
       "\n",
       "   split2_test_score  mean_test_score  std_test_score  rank_test_score  \\\n",
       "5           0.831506         0.822409        0.011803                1   \n",
       "6           0.831304         0.822328        0.011817                2   \n",
       "4           0.826948         0.818298        0.013351                3   \n",
       "3           0.827315         0.818223        0.013505                4   \n",
       "1           0.826830         0.817742        0.013502                5   \n",
       "2           0.827012         0.817701        0.013559                6   \n",
       "0           0.816525         0.806882        0.013727                7   \n",
       "\n",
       "   split0_train_score  split1_train_score  split2_train_score  \\\n",
       "5            0.818623            0.831002            0.818226   \n",
       "6            0.818630            0.831013            0.818503   \n",
       "4            0.812564            0.828081            0.814207   \n",
       "3            0.812525            0.827412            0.814284   \n",
       "1            0.812258            0.826461            0.812801   \n",
       "2            0.812330            0.826602            0.813193   \n",
       "0            0.801164            0.816486            0.800859   \n",
       "\n",
       "   mean_train_score  std_train_score  \n",
       "5          0.822617         0.005931  \n",
       "6          0.822715         0.005867  \n",
       "4          0.818284         0.006960  \n",
       "3          0.818074         0.006642  \n",
       "1          0.817173         0.006571  \n",
       "2          0.817375         0.006534  \n",
       "0          0.806170         0.007296  "
      ]
     },
     "execution_count": 27,
     "metadata": {},
     "output_type": "execute_result"
    }
   ],
   "source": [
    "from sklearn.model_selection import GridSearchCV, KFold\n",
    "\n",
    "param_grid = {'select__k': np.arange(1, train_x.shape[1] + 1)}\n",
    "cv = KFold(n_splits=3, random_state=1, shuffle=True)\n",
    "gcv = GridSearchCV(pipe, param_grid, return_train_score=True, cv=cv)\n",
    "gcv.fit(train_x, train_y)\n",
    "\n",
    "results = pd.DataFrame(gcv.cv_results_).sort_values(by='mean_test_score', ascending=False)\n",
    "results.loc[:, ~results.columns.str.endswith(\"_time\")]"
   ]
  },
  {
   "cell_type": "markdown",
   "metadata": {},
   "source": [
    "We can see above that six seems to be the optimal number of predictors. Listing these below we find that the variable *mgus* has been excluded - perhaps unsurprising given its near zero variance.\n",
    "\n",
    "Exploring a penalised model might therefore be an interesting avenue to achieve greater parsimony - however, in favour of keeping things simple and our coefficients interpretable, I will stick with the original model with features chosen *a priori* for now."
   ]
  },
  {
   "cell_type": "code",
   "execution_count": 28,
   "metadata": {},
   "outputs": [
    {
     "data": {
      "text/plain": [
       "age               0.127315\n",
       "sex=M             0.446660\n",
       "kl_sum            0.135983\n",
       "kl_ratio          0.119998\n",
       "kl_interaction   -0.030930\n",
       "creatinine        0.091330\n",
       "dtype: float64"
      ]
     },
     "execution_count": 28,
     "metadata": {},
     "output_type": "execute_result"
    }
   ],
   "source": [
    "pipe.set_params(**gcv.best_params_)\n",
    "pipe.fit(train_x, train_y)\n",
    "\n",
    "encoder, transformer, final_estimator = [s[1] for s in pipe.steps]\n",
    "pd.Series(final_estimator.coef_, index=encoder.encoded_columns_[transformer.get_support()])"
   ]
  },
  {
   "cell_type": "markdown",
   "metadata": {},
   "source": [
    "### Random survival forests\n",
    "\n",
    "The downside of a Cox proportional hazards model is that it can only predict a risk score that is independent of time (due to the built-in proportional hazards assumption). \n",
    "\n",
    "Therefore, a single predicted risk score needs to work well for every time point. In contrast, a Random Survival Forest does not have this restriction. So let’s fit such a model to the training data.\n",
    "\n",
    "For prediction, we do not call predict, which returns a time-independent risk score, but call predict_cumulative_hazard_function, which returns a risk function over time for each patient. We obtain the time-dependent risk scores by evaluating each cumulative hazard function at the time points we are interested in.\n",
    "\n",
    "(NB: The model below does not use optimised parameters, as my grid search function later on sadly failed due to lack of computer processing power!)"
   ]
  },
  {
   "cell_type": "code",
   "execution_count": 39,
   "metadata": {},
   "outputs": [
    {
     "data": {
      "text/plain": [
       "RandomSurvivalForest(min_samples_leaf=7, random_state=0)"
      ]
     },
     "execution_count": 39,
     "metadata": {},
     "output_type": "execute_result"
    }
   ],
   "source": [
    "rsf = RandomSurvivalForest(n_estimators=100, min_samples_leaf=7, random_state=0)\n",
    "\n",
    "rsf.fit(train_x, train_y)"
   ]
  },
  {
   "cell_type": "markdown",
   "metadata": {},
   "source": [
    "##### Grid search cross validation (not running)\n",
    "(I was keen to run the below code to optimise parameters for my random survival forest model, but lacked the requisite computer processing power.)"
   ]
  },
  {
   "cell_type": "code",
   "execution_count": 40,
   "metadata": {},
   "outputs": [],
   "source": [
    "#from sklearn.model_selection import GridSearchCV, KFold\n",
    "#\n",
    "#from sksurv.metrics import (\n",
    "#    as_concordance_index_ipcw_scorer,\n",
    "#    as_cumulative_dynamic_auc_scorer,\n",
    "#    as_integrated_brier_score_scorer,\n",
    "#)\n",
    "#\n",
    "#cv = KFold(n_splits=3, shuffle=True, random_state=1)\n",
    "#\n",
    "#cv_param_grid = {\n",
    "#    \"estimator__max_depth\": np.arange(1, 10, dtype=int),\n",
    "#}\n",
    "#\n",
    "#gcv_cindex = GridSearchCV(\n",
    "#    as_concordance_index_ipcw_scorer(rsf, tau= brier_times[-1]),\n",
    "#    param_grid = cv_param_grid,\n",
    "#    cv=cv,\n",
    "#    n_jobs=4,\n",
    "#).fit(train_x, train_y)"
   ]
  },
  {
   "cell_type": "markdown",
   "metadata": {},
   "source": [
    "##### Feature importance\n",
    "\n",
    "Out of interest, let's compute feature importance. The result below shows that age is by far the most important feature. If its relationship to survival time is removed (by random shuffling), the concordance index on the test data drops on average by 0.16 points. \n",
    "\n",
    "Note: As above, there will be data leakage from age and creatinine which have already been imputed using MICE on the entire training set, therefore the permutations will not be independent of each other."
   ]
  },
  {
   "cell_type": "code",
   "execution_count": 41,
   "metadata": {},
   "outputs": [
    {
     "data": {
      "text/html": [
       "\n",
       "    <style>\n",
       "    table.eli5-weights tr:hover {\n",
       "        filter: brightness(85%);\n",
       "    }\n",
       "</style>\n",
       "\n",
       "\n",
       "\n",
       "    \n",
       "\n",
       "    \n",
       "\n",
       "    \n",
       "\n",
       "    \n",
       "\n",
       "    \n",
       "\n",
       "    \n",
       "\n",
       "\n",
       "    \n",
       "\n",
       "    \n",
       "\n",
       "    \n",
       "\n",
       "    \n",
       "\n",
       "    \n",
       "\n",
       "    \n",
       "\n",
       "\n",
       "    \n",
       "\n",
       "    \n",
       "\n",
       "    \n",
       "\n",
       "    \n",
       "\n",
       "    \n",
       "        <table class=\"eli5-weights eli5-feature-importances\" style=\"border-collapse: collapse; border: none; margin-top: 0em; table-layout: auto;\">\n",
       "    <thead>\n",
       "    <tr style=\"border: none;\">\n",
       "        <th style=\"padding: 0 1em 0 0.5em; text-align: right; border: none;\">Weight</th>\n",
       "        <th style=\"padding: 0 0.5em 0 0.5em; text-align: left; border: none;\">Feature</th>\n",
       "    </tr>\n",
       "    </thead>\n",
       "    <tbody>\n",
       "    \n",
       "        <tr style=\"background-color: hsl(120, 100.00%, 80.00%); border: none;\">\n",
       "            <td style=\"padding: 0 1em 0 0.5em; text-align: right; border: none;\">\n",
       "                0.1554\n",
       "                \n",
       "                    &plusmn; 0.0381\n",
       "                \n",
       "            </td>\n",
       "            <td style=\"padding: 0 0.5em 0 0.5em; text-align: left; border: none;\">\n",
       "                age\n",
       "            </td>\n",
       "        </tr>\n",
       "    \n",
       "        <tr style=\"background-color: hsl(120, 100.00%, 92.98%); border: none;\">\n",
       "            <td style=\"padding: 0 1em 0 0.5em; text-align: right; border: none;\">\n",
       "                0.0348\n",
       "                \n",
       "                    &plusmn; 0.0234\n",
       "                \n",
       "            </td>\n",
       "            <td style=\"padding: 0 0.5em 0 0.5em; text-align: left; border: none;\">\n",
       "                creatinine\n",
       "            </td>\n",
       "        </tr>\n",
       "    \n",
       "        <tr style=\"background-color: hsl(120, 100.00%, 94.10%); border: none;\">\n",
       "            <td style=\"padding: 0 1em 0 0.5em; text-align: right; border: none;\">\n",
       "                0.0272\n",
       "                \n",
       "                    &plusmn; 0.0219\n",
       "                \n",
       "            </td>\n",
       "            <td style=\"padding: 0 0.5em 0 0.5em; text-align: left; border: none;\">\n",
       "                kl_interaction\n",
       "            </td>\n",
       "        </tr>\n",
       "    \n",
       "        <tr style=\"background-color: hsl(120, 100.00%, 97.85%); border: none;\">\n",
       "            <td style=\"padding: 0 1em 0 0.5em; text-align: right; border: none;\">\n",
       "                0.0064\n",
       "                \n",
       "                    &plusmn; 0.0155\n",
       "                \n",
       "            </td>\n",
       "            <td style=\"padding: 0 0.5em 0 0.5em; text-align: left; border: none;\">\n",
       "                sex=M\n",
       "            </td>\n",
       "        </tr>\n",
       "    \n",
       "        <tr style=\"background-color: hsl(120, 100.00%, 98.68%); border: none;\">\n",
       "            <td style=\"padding: 0 1em 0 0.5em; text-align: right; border: none;\">\n",
       "                0.0032\n",
       "                \n",
       "                    &plusmn; 0.0189\n",
       "                \n",
       "            </td>\n",
       "            <td style=\"padding: 0 0.5em 0 0.5em; text-align: left; border: none;\">\n",
       "                kl_sum\n",
       "            </td>\n",
       "        </tr>\n",
       "    \n",
       "        <tr style=\"background-color: hsl(120, 100.00%, 99.95%); border: none;\">\n",
       "            <td style=\"padding: 0 1em 0 0.5em; text-align: right; border: none;\">\n",
       "                0.0000\n",
       "                \n",
       "                    &plusmn; 0.0002\n",
       "                \n",
       "            </td>\n",
       "            <td style=\"padding: 0 0.5em 0 0.5em; text-align: left; border: none;\">\n",
       "                mgus=yes\n",
       "            </td>\n",
       "        </tr>\n",
       "    \n",
       "        <tr style=\"background-color: hsl(0, 100.00%, 99.56%); border: none;\">\n",
       "            <td style=\"padding: 0 1em 0 0.5em; text-align: right; border: none;\">\n",
       "                -0.0007\n",
       "                \n",
       "                    &plusmn; 0.0097\n",
       "                \n",
       "            </td>\n",
       "            <td style=\"padding: 0 0.5em 0 0.5em; text-align: left; border: none;\">\n",
       "                kl_ratio\n",
       "            </td>\n",
       "        </tr>\n",
       "    \n",
       "    \n",
       "    </tbody>\n",
       "</table>\n",
       "    \n",
       "\n",
       "    \n",
       "\n",
       "\n",
       "    \n",
       "\n",
       "    \n",
       "\n",
       "    \n",
       "\n",
       "    \n",
       "\n",
       "    \n",
       "\n",
       "    \n",
       "\n",
       "\n",
       "\n"
      ],
      "text/plain": [
       "<IPython.core.display.HTML object>"
      ]
     },
     "execution_count": 41,
     "metadata": {},
     "output_type": "execute_result"
    }
   ],
   "source": [
    "import eli5\n",
    "from eli5.sklearn import PermutationImportance\n",
    "\n",
    "perm = PermutationImportance(rsf, n_iter=15, random_state= 0)\n",
    "perm.fit(test_x, test_y)\n",
    "eli5.show_weights(perm, feature_names= train_x.columns.tolist())"
   ]
  },
  {
   "cell_type": "markdown",
   "metadata": {},
   "source": [
    "## Model comparison: Success criteria / measuring performance\n",
    "\n",
    "(**NB:** While Harrell’s concordance index is often used in survival modelling, it is known to be biased upwards if the amount of censoring in the test data is high. There is huge censoring for the outcome of death from a circulatory disease and therefore Harrell'C is not appropriate. Furthermore, it is not a useful measure of performance if a specific time range is of primary interest (e.g. predicting death within 2 years.))\n",
    "\n",
    "### Assessing discrimination: Cumulative dynamic AUC\n",
    "Taking one point estimate of model performance, e.g. mean AUC overall, can obfuscate time-dependent performance. Cumulative dynamic AUC allows us to observe how each of our candidate models performs over time."
   ]
  },
  {
   "cell_type": "code",
   "execution_count": 42,
   "metadata": {},
   "outputs": [],
   "source": [
    "va_times = np.arange(8, 2520, 30) # Weekly intervals from the first week, for 7 years"
   ]
  },
  {
   "cell_type": "code",
   "execution_count": 43,
   "metadata": {},
   "outputs": [],
   "source": [
    "cph_risk_scores = cph.predict(test_x)\n",
    "cph_auc, cph_mean_auc = cumulative_dynamic_auc(\n",
    "    train_y, test_y, cph_risk_scores, va_times\n",
    ")\n",
    "\n",
    "rsf_chf_funcs = rsf.predict_cumulative_hazard_function(\n",
    "    test_x, return_array=False)\n",
    "rsf_risk_scores = np.row_stack([chf(va_times) for chf in rsf_chf_funcs])\n",
    "\n",
    "rsf_auc, rsf_mean_auc = cumulative_dynamic_auc(\n",
    "    train_y, test_y, rsf_risk_scores, va_times\n",
    ")"
   ]
  },
  {
   "cell_type": "markdown",
   "metadata": {},
   "source": [
    "Prognostic ability for the Cox model is strongest in the first year. My sense is that this is a common scenario with survival models such as this that only predict from one point in time - the farther in time we get from the index features, the more that has potential to change. And let's not forget - key predictors such as age are not static over the follow-up period!\n",
    "\n",
    "Interestingly, the RSF model performs very poorly at predicting in the short term, but shows an advantage after day 1800. It's almost as if this model needs time to 'ramp up' before prediction improves."
   ]
  },
  {
   "cell_type": "code",
   "execution_count": 44,
   "metadata": {},
   "outputs": [
    {
     "data": {
      "image/png": "[encoded data removed]",
      "text/plain": [
       "<Figure size 1008x288 with 1 Axes>"
      ]
     },
     "metadata": {
      "needs_background": "light"
     },
     "output_type": "display_data"
    }
   ],
   "source": [
    "figure(figsize=(14,4))\n",
    "\n",
    "plt.plot(va_times, cph_auc, \"o-\", label=\"Cox Proportional Hazards (mean AUC = {:.3f})\".format(cph_mean_auc))\n",
    "plt.plot(va_times, rsf_auc, \"o-\", label=\"Random Survival Forests (mean AUC = {:.3f})\".format(rsf_mean_auc))\n",
    "plt.xlabel(\"Days from enrollment\")\n",
    "plt.ylabel(\"Time-dependent AUC\")\n",
    "plt.legend(loc=\"lower center\")\n",
    "plt.title('Cox Proportional Hazards vs Random Survival Forests: AUC as a function of days from enrollment')\n",
    "plt.grid(True)"
   ]
  },
  {
   "cell_type": "markdown",
   "metadata": {},
   "source": [
    "### Assessing calibration: Time-dependent Brier score\n",
    "\n",
    "While measuring discrimination allows us to assess the ability of the model to classify events from non-events, measuring calibration allows us to measure the distance between observed and predicted values (analogous to mean squared error in a standard regression model).\n",
    "\n",
    "First we determine for which time points 𝑡 we want to compute the Brier score for. We select all time points between the 10% and 90% percentile of observed time points in the test set.\n",
    "\n",
    "This returns 2773 time points, for which we need to estimate the probability of survival for, which is given by the survival function. Thus, we iterate over the predicted survival functions on the test data and evaluate each at the time points from above.\n",
    "\n",
    "The lower the Brier score the better. Both RSF and CPH models are very well calibrated, with RSF performing slightly better."
   ]
  },
  {
   "cell_type": "code",
   "execution_count": 45,
   "metadata": {},
   "outputs": [
    {
     "data": {
      "text/plain": [
       "RSF       0.022069\n",
       "CPH       0.022833\n",
       "Random    0.186319\n",
       "Name: IBS, dtype: float64"
      ]
     },
     "execution_count": 45,
     "metadata": {},
     "output_type": "execute_result"
    }
   ],
   "source": [
    "lower, upper = np.percentile(test_y[\"futime\"], [10, 90])\n",
    "brier_times = np.arange(lower, upper + 1) # Returns 2773 times\n",
    "\n",
    "rsf_surv_prob = np.row_stack([\n",
    "    fn(brier_times)\n",
    "    for fn in rsf.predict_survival_function(test_x)\n",
    "])\n",
    "cph_surv_prob = np.row_stack([\n",
    "    fn(brier_times)\n",
    "    for fn in cph.predict_survival_function(test_x)\n",
    "])\n",
    "\n",
    "random_surv_prob = 0.5 * np.ones(\n",
    "    (test_y.shape[0], brier_times.shape[0])\n",
    ")\n",
    "\n",
    "score_brier = pd.Series(\n",
    "    [\n",
    "        integrated_brier_score(train_y, test_y, prob, brier_times)\n",
    "        for prob in (rsf_surv_prob, cph_surv_prob, random_surv_prob)\n",
    "    ],\n",
    "    index=[\"RSF\", \"CPH\", \"Random\"],\n",
    "    name=\"IBS\"\n",
    ")\n",
    "\n",
    "score_brier"
   ]
  },
  {
   "cell_type": "markdown",
   "metadata": {},
   "source": [
    "## Conclusions\n",
    "\n",
    "From a few simple predictors it was possible to build a classifier for predicting risk of death from a circulatory disease after seven years that performed well in external temporal validation. \n",
    "\n",
    "Strikingly, the CPH and RSF models were stronger at predicting in the short term and long term respectively, and therefore might pose different use cases. Perhaps the models' complementary use cases could also be exploited via an ensemble modelling method. Both models were roughly equivalently well-calibrated. Interestingly, the models seem to disagree on which features aside from age are important.\n",
    "\n",
    "One thing to note is that there were far fewer circulatory death events in the validation set than the derivation set. More investigation is needed to establish whether this is inflating model performance estimates. "
   ]
  },
  {
   "cell_type": "markdown",
   "metadata": {},
   "source": [
    "## Limitations and further avenues for investigation\n",
    "\n",
    "1. **Competing risks: When subjects have multiple possible events in a time-to-event setting**\n",
    "\n",
    "Unobserved dependence among event times is a fundamental problem that needs special consideration. In this study 1424 patients die from non-circulatory causes, which means they are censored. It is highly plausible that someone at risk of dying from one disorder is more likely to die from other causes, such as acirculatory disorder. \n",
    "\n",
    "Cumulative incidence using Kaplan-Meier is always >= cumulative incidence using competing risks methods, so can only lead to an overestimate of the cumulative incidence. The amount of overestimation will depend on event rates and dependence among events. \n",
    "\n",
    "*Workaround - competing risks regression:* I couldn't find a useful package in Python for this, but R has packages for handling this such as the *cmprisk* package.\n",
    "\n",
    "2. **Non-static covariates**\n",
    "\n",
    "Age is a key example of a covariate that changes over time and increases risk. Future work would ideally incorporate time-varying coefficients (I think this can be achieved with the *lifelines* package).\n",
    "\n",
    "\n",
    "3. **Data leakage from multiple imputation into k-fold validation**\n",
    "\n",
    "However, this won't affect the external validation here.\n",
    "\n",
    "\n",
    "4. **Unable to check proportional hazards assumption**\n",
    "\n",
    "I was unable to do this in Python, but R had an easy method of doing this.\n",
    "\n",
    "5. **Accelerated Failure Time Model**\n",
    "\n",
    "The Accelerated Failure Time (AFT) model is an alternative to Cox’s proportional hazards model. The latter assumes that features only influence the hazard function via a constant multiplicative factor. In contrast, features in an AFT model can accelerate or decelerate the time to an event by a constant factor. The figure below depicts the predicted hazard functions of a proportional hazards model in blue and that of an AFT model in orange.\n",
    "\n",
    "6. **Sensitivity and specificity**\n",
    "\n",
    "I would still like to calculate sensitivity and specificity to establish how the model performs at 'ruling in' patients at risk of death in seven years. Again, easily done in R - more investigation needed to produce this in Python as there's no intuitive package.\n",
    "\n",
    "7. **Lifelines package**\n",
    "\n",
    "I only lightly delve into this package here, but it has a lot of additional functions relevant to survival modelling that I am keen to try out."
   ]
  }
 ],
 "metadata": {
  "kernelspec": {
   "display_name": "Python 3 (ipykernel)",
   "language": "python",
   "name": "python3"
  },
  "language_info": {
   "codemirror_mode": {
    "name": "ipython",
    "version": 3
   },
   "file_extension": ".py",
   "mimetype": "text/x-python",
   "name": "python",
   "nbconvert_exporter": "python",
   "pygments_lexer": "ipython3",
   "version": "3.9.12"
  },
  "varInspector": {
   "cols": {
    "lenName": 16,
    "lenType": 16,
    "lenVar": 40
   },
   "kernels_config": {
    "python": {
     "delete_cmd_postfix": "",
     "delete_cmd_prefix": "del ",
     "library": "var_list.py",
     "varRefreshCmd": "print(var_dic_list())"
    },
    "r": {
     "delete_cmd_postfix": ") ",
     "delete_cmd_prefix": "rm(",
     "library": "var_list.r",
     "varRefreshCmd": "cat(var_dic_list()) "
    }
   },
   "oldHeight": 445.852,
   "position": {
    "height": "467.852px",
    "left": "921px",
    "right": "20px",
    "top": "120px",
    "width": "338px"
   },
   "types_to_exclude": [
    "module",
    "function",
    "builtin_function_or_method",
    "instance",
    "_Feature"
   ],
   "varInspector_section_display": "block",
   "window_display": false
  }
 },
 "nbformat": 4,
 "nbformat_minor": 4
}
