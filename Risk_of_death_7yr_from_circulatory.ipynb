{
 "cells": [
  {
   "cell_type": "markdown",
   "metadata": {},
   "source": [
    "# Risk of death due to circulatory causes in 7 years"
   ]
  },
  {
   "cell_type": "markdown",
   "metadata": {},
   "source": [
    "We would like you to:\n",
    "\n",
    "- Create a prototype model estimating the risk of death due to circulatory causes within 7 years, using python\n",
    "- Detail the approach you have taken\n",
    "- Visualise the output of the model using an appropriate format\n",
    "- Explain model selection and justification as to why this was chosen over other approaches\n",
    "- Success criteria\n",
    "- Highlight any current limitations in the model\n",
    "- Discuss subsequent next steps\n",
    "\n",
    "### Load packages and dataset"
   ]
  },
  {
   "cell_type": "code",
   "execution_count": 49,
   "metadata": {},
   "outputs": [],
   "source": [
    "import os\n",
    "import pandas as pd\n",
    "import numpy as np\n",
    "import scipy as sp\n",
    "import seaborn as sn\n",
    "import matplotlib.pyplot as plt\n",
    "from lifelines import KaplanMeierFitter\n",
    "from sksurv.nonparametric import kaplan_meier_estimator\n",
    "from sklearn.model_selection import cross_val_score\n",
    "from sklearn.model_selection import RepeatedStratifiedKFold\n",
    "from sklearn.pipeline import Pipeline"
   ]
  },
  {
   "cell_type": "code",
   "execution_count": 5,
   "metadata": {},
   "outputs": [
    {
     "name": "stdout",
     "output_type": "stream",
     "text": [
      "/Users/jessicairving\n"
     ]
    }
   ],
   "source": [
    "cd"
   ]
  },
  {
   "cell_type": "code",
   "execution_count": 6,
   "metadata": {},
   "outputs": [],
   "source": [
    "df = pd.read_csv('ml-interview-task-main/five_lives_ml_task_data.csv')"
   ]
  },
  {
   "cell_type": "markdown",
   "metadata": {},
   "source": [
    "### Exploratory data analysis"
   ]
  },
  {
   "cell_type": "markdown",
   "metadata": {},
   "source": [
    "We can see that: \n",
    "- **Age:** no outlandish ages, however missing data, 100% correlated with having no creatinine value. This is going to be an incredibly important variable, so we'll explore the pattern of missingness around it\n",
    "- **Chapter:** only recorded if outcome is experienced so not appropriate for a prognostic model. However we can use this to formulate a variable recording circulatory death and evaluate competing risks of deaths from other causes\n",
    "- **Creatinine** = missing data\n",
    "- **Futime:** Some people followed for 14 years - what's going on?"
   ]
  },
  {
   "cell_type": "code",
   "execution_count": 9,
   "metadata": {},
   "outputs": [
    {
     "data": {
      "text/html": [
       "<div>\n",
       "<style scoped>\n",
       "    .dataframe tbody tr th:only-of-type {\n",
       "        vertical-align: middle;\n",
       "    }\n",
       "\n",
       "    .dataframe tbody tr th {\n",
       "        vertical-align: top;\n",
       "    }\n",
       "\n",
       "    .dataframe thead th {\n",
       "        text-align: right;\n",
       "    }\n",
       "</style>\n",
       "<table border=\"1\" class=\"dataframe\">\n",
       "  <thead>\n",
       "    <tr style=\"text-align: right;\">\n",
       "      <th></th>\n",
       "      <th>age</th>\n",
       "      <th>chapter</th>\n",
       "      <th>creatinine</th>\n",
       "      <th>flc.grp</th>\n",
       "      <th>kappa</th>\n",
       "      <th>lambda</th>\n",
       "      <th>mgus</th>\n",
       "      <th>sample.yr</th>\n",
       "      <th>sex</th>\n",
       "      <th>death</th>\n",
       "      <th>futime</th>\n",
       "    </tr>\n",
       "  </thead>\n",
       "  <tbody>\n",
       "    <tr>\n",
       "      <th>0</th>\n",
       "      <td>97.0</td>\n",
       "      <td>Circulatory</td>\n",
       "      <td>1.7</td>\n",
       "      <td>10</td>\n",
       "      <td>5.70</td>\n",
       "      <td>4.860</td>\n",
       "      <td>no</td>\n",
       "      <td>1997</td>\n",
       "      <td>F</td>\n",
       "      <td>True</td>\n",
       "      <td>85.0</td>\n",
       "    </tr>\n",
       "    <tr>\n",
       "      <th>1</th>\n",
       "      <td>92.0</td>\n",
       "      <td>Neoplasms</td>\n",
       "      <td>0.9</td>\n",
       "      <td>1</td>\n",
       "      <td>0.87</td>\n",
       "      <td>0.683</td>\n",
       "      <td>no</td>\n",
       "      <td>2000</td>\n",
       "      <td>F</td>\n",
       "      <td>True</td>\n",
       "      <td>1281.0</td>\n",
       "    </tr>\n",
       "    <tr>\n",
       "      <th>2</th>\n",
       "      <td>94.0</td>\n",
       "      <td>Circulatory</td>\n",
       "      <td>1.4</td>\n",
       "      <td>10</td>\n",
       "      <td>4.36</td>\n",
       "      <td>3.850</td>\n",
       "      <td>no</td>\n",
       "      <td>1997</td>\n",
       "      <td>F</td>\n",
       "      <td>True</td>\n",
       "      <td>69.0</td>\n",
       "    </tr>\n",
       "    <tr>\n",
       "      <th>3</th>\n",
       "      <td>92.0</td>\n",
       "      <td>Circulatory</td>\n",
       "      <td>1.0</td>\n",
       "      <td>9</td>\n",
       "      <td>2.42</td>\n",
       "      <td>2.220</td>\n",
       "      <td>no</td>\n",
       "      <td>1996</td>\n",
       "      <td>F</td>\n",
       "      <td>True</td>\n",
       "      <td>115.0</td>\n",
       "    </tr>\n",
       "    <tr>\n",
       "      <th>4</th>\n",
       "      <td>93.0</td>\n",
       "      <td>Circulatory</td>\n",
       "      <td>1.1</td>\n",
       "      <td>6</td>\n",
       "      <td>1.32</td>\n",
       "      <td>1.690</td>\n",
       "      <td>no</td>\n",
       "      <td>1996</td>\n",
       "      <td>F</td>\n",
       "      <td>True</td>\n",
       "      <td>1039.0</td>\n",
       "    </tr>\n",
       "  </tbody>\n",
       "</table>\n",
       "</div>"
      ],
      "text/plain": [
       "    age      chapter  creatinine  flc.grp  kappa  lambda mgus  sample.yr sex  \\\n",
       "0  97.0  Circulatory         1.7       10   5.70   4.860   no       1997   F   \n",
       "1  92.0    Neoplasms         0.9        1   0.87   0.683   no       2000   F   \n",
       "2  94.0  Circulatory         1.4       10   4.36   3.850   no       1997   F   \n",
       "3  92.0  Circulatory         1.0        9   2.42   2.220   no       1996   F   \n",
       "4  93.0  Circulatory         1.1        6   1.32   1.690   no       1996   F   \n",
       "\n",
       "   death  futime  \n",
       "0   True    85.0  \n",
       "1   True  1281.0  \n",
       "2   True    69.0  \n",
       "3   True   115.0  \n",
       "4   True  1039.0  "
      ]
     },
     "execution_count": 9,
     "metadata": {},
     "output_type": "execute_result"
    }
   ],
   "source": [
    "df.head()"
   ]
  },
  {
   "cell_type": "code",
   "execution_count": 42,
   "metadata": {},
   "outputs": [
    {
     "name": "stdout",
     "output_type": "stream",
     "text": [
      "<class 'pandas.core.frame.DataFrame'>\n",
      "RangeIndex: 7874 entries, 0 to 7873\n",
      "Data columns (total 12 columns):\n",
      " #   Column      Non-Null Count  Dtype   \n",
      "---  ------      --------------  -----   \n",
      " 0   age         6524 non-null   float64 \n",
      " 1   chapter     2169 non-null   object  \n",
      " 2   creatinine  6524 non-null   float64 \n",
      " 3   flc.grp     7874 non-null   int64   \n",
      " 4   kappa       7874 non-null   float64 \n",
      " 5   lambda      7874 non-null   float64 \n",
      " 6   mgus        7874 non-null   category\n",
      " 7   sample.yr   7874 non-null   float64 \n",
      " 8   sex         7874 non-null   category\n",
      " 9   death       7874 non-null   bool    \n",
      " 10  futime      7874 non-null   float64 \n",
      " 11  circ_death  7874 non-null   bool    \n",
      "dtypes: bool(2), category(2), float64(6), int64(1), object(1)\n",
      "memory usage: 523.2+ KB\n"
     ]
    }
   ],
   "source": [
    "df.info()"
   ]
  },
  {
   "cell_type": "code",
   "execution_count": 10,
   "metadata": {},
   "outputs": [
    {
     "data": {
      "text/plain": [
       "3     820\n",
       "2     811\n",
       "7     806\n",
       "9     803\n",
       "6     791\n",
       "5     791\n",
       "4     786\n",
       "1     769\n",
       "10    767\n",
       "8     730\n",
       "Name: flc.grp, dtype: int64"
      ]
     },
     "execution_count": 10,
     "metadata": {},
     "output_type": "execute_result"
    }
   ],
   "source": [
    "df['flc.grp'].value_counts()"
   ]
  },
  {
   "cell_type": "code",
   "execution_count": 12,
   "metadata": {},
   "outputs": [
    {
     "data": {
      "text/html": [
       "<div>\n",
       "<style scoped>\n",
       "    .dataframe tbody tr th:only-of-type {\n",
       "        vertical-align: middle;\n",
       "    }\n",
       "\n",
       "    .dataframe tbody tr th {\n",
       "        vertical-align: top;\n",
       "    }\n",
       "\n",
       "    .dataframe thead th {\n",
       "        text-align: right;\n",
       "    }\n",
       "</style>\n",
       "<table border=\"1\" class=\"dataframe\">\n",
       "  <thead>\n",
       "    <tr style=\"text-align: right;\">\n",
       "      <th></th>\n",
       "      <th>age</th>\n",
       "      <th>chapter</th>\n",
       "      <th>creatinine</th>\n",
       "      <th>flc.grp</th>\n",
       "      <th>kappa</th>\n",
       "      <th>lambda</th>\n",
       "      <th>mgus</th>\n",
       "      <th>sample.yr</th>\n",
       "      <th>sex</th>\n",
       "      <th>death</th>\n",
       "      <th>futime</th>\n",
       "    </tr>\n",
       "  </thead>\n",
       "  <tbody>\n",
       "    <tr>\n",
       "      <th>count</th>\n",
       "      <td>6524.000000</td>\n",
       "      <td>2169</td>\n",
       "      <td>6524.000000</td>\n",
       "      <td>7874.000000</td>\n",
       "      <td>7874.000000</td>\n",
       "      <td>7874.000000</td>\n",
       "      <td>7874</td>\n",
       "      <td>7874.000000</td>\n",
       "      <td>7874</td>\n",
       "      <td>7874</td>\n",
       "      <td>7874.000000</td>\n",
       "    </tr>\n",
       "    <tr>\n",
       "      <th>unique</th>\n",
       "      <td>NaN</td>\n",
       "      <td>16</td>\n",
       "      <td>NaN</td>\n",
       "      <td>NaN</td>\n",
       "      <td>NaN</td>\n",
       "      <td>NaN</td>\n",
       "      <td>2</td>\n",
       "      <td>NaN</td>\n",
       "      <td>2</td>\n",
       "      <td>2</td>\n",
       "      <td>NaN</td>\n",
       "    </tr>\n",
       "    <tr>\n",
       "      <th>top</th>\n",
       "      <td>NaN</td>\n",
       "      <td>Circulatory</td>\n",
       "      <td>NaN</td>\n",
       "      <td>NaN</td>\n",
       "      <td>NaN</td>\n",
       "      <td>NaN</td>\n",
       "      <td>no</td>\n",
       "      <td>NaN</td>\n",
       "      <td>F</td>\n",
       "      <td>False</td>\n",
       "      <td>NaN</td>\n",
       "    </tr>\n",
       "    <tr>\n",
       "      <th>freq</th>\n",
       "      <td>NaN</td>\n",
       "      <td>745</td>\n",
       "      <td>NaN</td>\n",
       "      <td>NaN</td>\n",
       "      <td>NaN</td>\n",
       "      <td>NaN</td>\n",
       "      <td>7759</td>\n",
       "      <td>NaN</td>\n",
       "      <td>4350</td>\n",
       "      <td>5705</td>\n",
       "      <td>NaN</td>\n",
       "    </tr>\n",
       "    <tr>\n",
       "      <th>mean</th>\n",
       "      <td>65.057787</td>\n",
       "      <td>NaN</td>\n",
       "      <td>1.093516</td>\n",
       "      <td>5.470536</td>\n",
       "      <td>1.430881</td>\n",
       "      <td>1.702624</td>\n",
       "      <td>NaN</td>\n",
       "      <td>1996.790831</td>\n",
       "      <td>NaN</td>\n",
       "      <td>NaN</td>\n",
       "      <td>3661.042291</td>\n",
       "    </tr>\n",
       "    <tr>\n",
       "      <th>std</th>\n",
       "      <td>10.682585</td>\n",
       "      <td>NaN</td>\n",
       "      <td>0.416507</td>\n",
       "      <td>2.863011</td>\n",
       "      <td>0.896774</td>\n",
       "      <td>1.030732</td>\n",
       "      <td>NaN</td>\n",
       "      <td>1.765156</td>\n",
       "      <td>NaN</td>\n",
       "      <td>NaN</td>\n",
       "      <td>1432.677330</td>\n",
       "    </tr>\n",
       "    <tr>\n",
       "      <th>min</th>\n",
       "      <td>50.000000</td>\n",
       "      <td>NaN</td>\n",
       "      <td>0.400000</td>\n",
       "      <td>1.000000</td>\n",
       "      <td>0.010000</td>\n",
       "      <td>0.040000</td>\n",
       "      <td>NaN</td>\n",
       "      <td>1995.000000</td>\n",
       "      <td>NaN</td>\n",
       "      <td>NaN</td>\n",
       "      <td>0.000000</td>\n",
       "    </tr>\n",
       "    <tr>\n",
       "      <th>25%</th>\n",
       "      <td>56.000000</td>\n",
       "      <td>NaN</td>\n",
       "      <td>0.900000</td>\n",
       "      <td>3.000000</td>\n",
       "      <td>0.960000</td>\n",
       "      <td>1.200000</td>\n",
       "      <td>NaN</td>\n",
       "      <td>1996.000000</td>\n",
       "      <td>NaN</td>\n",
       "      <td>NaN</td>\n",
       "      <td>2852.000000</td>\n",
       "    </tr>\n",
       "    <tr>\n",
       "      <th>50%</th>\n",
       "      <td>63.500000</td>\n",
       "      <td>NaN</td>\n",
       "      <td>1.000000</td>\n",
       "      <td>5.000000</td>\n",
       "      <td>1.270000</td>\n",
       "      <td>1.510000</td>\n",
       "      <td>NaN</td>\n",
       "      <td>1996.000000</td>\n",
       "      <td>NaN</td>\n",
       "      <td>NaN</td>\n",
       "      <td>4302.000000</td>\n",
       "    </tr>\n",
       "    <tr>\n",
       "      <th>75%</th>\n",
       "      <td>73.000000</td>\n",
       "      <td>NaN</td>\n",
       "      <td>1.200000</td>\n",
       "      <td>8.000000</td>\n",
       "      <td>1.680000</td>\n",
       "      <td>1.920000</td>\n",
       "      <td>NaN</td>\n",
       "      <td>1997.000000</td>\n",
       "      <td>NaN</td>\n",
       "      <td>NaN</td>\n",
       "      <td>4773.000000</td>\n",
       "    </tr>\n",
       "    <tr>\n",
       "      <th>max</th>\n",
       "      <td>101.000000</td>\n",
       "      <td>NaN</td>\n",
       "      <td>10.800000</td>\n",
       "      <td>10.000000</td>\n",
       "      <td>20.500000</td>\n",
       "      <td>26.600000</td>\n",
       "      <td>NaN</td>\n",
       "      <td>2003.000000</td>\n",
       "      <td>NaN</td>\n",
       "      <td>NaN</td>\n",
       "      <td>5215.000000</td>\n",
       "    </tr>\n",
       "  </tbody>\n",
       "</table>\n",
       "</div>"
      ],
      "text/plain": [
       "                age      chapter   creatinine      flc.grp        kappa  \\\n",
       "count   6524.000000         2169  6524.000000  7874.000000  7874.000000   \n",
       "unique          NaN           16          NaN          NaN          NaN   \n",
       "top             NaN  Circulatory          NaN          NaN          NaN   \n",
       "freq            NaN          745          NaN          NaN          NaN   \n",
       "mean      65.057787          NaN     1.093516     5.470536     1.430881   \n",
       "std       10.682585          NaN     0.416507     2.863011     0.896774   \n",
       "min       50.000000          NaN     0.400000     1.000000     0.010000   \n",
       "25%       56.000000          NaN     0.900000     3.000000     0.960000   \n",
       "50%       63.500000          NaN     1.000000     5.000000     1.270000   \n",
       "75%       73.000000          NaN     1.200000     8.000000     1.680000   \n",
       "max      101.000000          NaN    10.800000    10.000000    20.500000   \n",
       "\n",
       "             lambda  mgus    sample.yr   sex  death       futime  \n",
       "count   7874.000000  7874  7874.000000  7874   7874  7874.000000  \n",
       "unique          NaN     2          NaN     2      2          NaN  \n",
       "top             NaN    no          NaN     F  False          NaN  \n",
       "freq            NaN  7759          NaN  4350   5705          NaN  \n",
       "mean       1.702624   NaN  1996.790831   NaN    NaN  3661.042291  \n",
       "std        1.030732   NaN     1.765156   NaN    NaN  1432.677330  \n",
       "min        0.040000   NaN  1995.000000   NaN    NaN     0.000000  \n",
       "25%        1.200000   NaN  1996.000000   NaN    NaN  2852.000000  \n",
       "50%        1.510000   NaN  1996.000000   NaN    NaN  4302.000000  \n",
       "75%        1.920000   NaN  1997.000000   NaN    NaN  4773.000000  \n",
       "max       26.600000   NaN  2003.000000   NaN    NaN  5215.000000  "
      ]
     },
     "execution_count": 12,
     "metadata": {},
     "output_type": "execute_result"
    }
   ],
   "source": [
    "df.describe(include = 'all') # 2169 events."
   ]
  },
  {
   "cell_type": "code",
   "execution_count": 13,
   "metadata": {},
   "outputs": [
    {
     "data": {
      "text/plain": [
       "no     7759\n",
       "yes     115\n",
       "Name: mgus, dtype: int64"
      ]
     },
     "execution_count": 13,
     "metadata": {},
     "output_type": "execute_result"
    }
   ],
   "source": [
    "df.mgus.value_counts()"
   ]
  },
  {
   "cell_type": "code",
   "execution_count": 38,
   "metadata": {
    "scrolled": true
   },
   "outputs": [
    {
     "name": "stdout",
     "output_type": "stream",
     "text": [
      "['Circulatory', 'Neoplasms', 'Mental', 'Nervous', 'Respiratory', 'Digestive', 'Injury and Poisoning', 'External Causes', 'Genitourinary', 'Ill Defined', 'Infectious', 'Blood', 'Endocrine', 'Musculoskeletal', 'Skin', 'Congenital']\n"
     ]
    },
    {
     "data": {
      "text/plain": [
       "<matplotlib.legend.Legend at 0x7f8414664f70>"
      ]
     },
     "execution_count": 38,
     "metadata": {},
     "output_type": "execute_result"
    },
    {
     "data": {
      "image/png": "[encoded data removed]",
      "text/plain": [
       "<Figure size 432x288 with 1 Axes>"
      ]
     },
     "metadata": {
      "needs_background": "light"
     },
     "output_type": "display_data"
    }
   ],
   "source": [
    "chapter = df.chapter.unique()\n",
    "chapter = [x for x in chapter if pd.isnull(x) == False]\n",
    "print(chapter)\n",
    "\n",
    "for treatment_type in (chapter):\n",
    "    mask_treat = df[\"chapter\"] == treatment_type\n",
    "    time_treatment, survival_prob_treatment = kaplan_meier_estimator(\n",
    "        df[\"death\"][mask_treat],\n",
    "        df[\"futime\"][mask_treat])\n",
    "\n",
    "    plt.step(time_treatment, survival_prob_treatment, where=\"post\",\n",
    "             label=\"Cause of death = %s\" % treatment_type)\n",
    "\n",
    "plt.ylabel(\"est. probability of survival $\\hat{S}(t)$\")\n",
    "plt.xlabel(\"time $t$\")\n",
    "plt.legend(loc=\"best\")"
   ]
  },
  {
   "cell_type": "code",
   "execution_count": 15,
   "metadata": {},
   "outputs": [
    {
     "data": {
      "text/plain": [
       "False    5705\n",
       "True     2169\n",
       "Name: death, dtype: int64"
      ]
     },
     "execution_count": 15,
     "metadata": {},
     "output_type": "execute_result"
    }
   ],
   "source": [
    "df.death.value_counts()"
   ]
  },
  {
   "cell_type": "code",
   "execution_count": 16,
   "metadata": {
    "scrolled": true
   },
   "outputs": [
    {
     "data": {
      "text/plain": [
       "1996.0    3491\n",
       "1997.0    1381\n",
       "1995.0    1275\n",
       "1998.0     687\n",
       "1999.0     350\n",
       "2000.0     245\n",
       "2003.0     222\n",
       "2001.0     175\n",
       "2002.0      48\n",
       "Name: sample.yr, dtype: int64"
      ]
     },
     "execution_count": 16,
     "metadata": {},
     "output_type": "execute_result"
    }
   ],
   "source": [
    "df['sample.yr'].value_counts() # Vast majority recruited in late 90s. "
   ]
  },
  {
   "cell_type": "markdown",
   "metadata": {},
   "source": [
    "#### Correlations between features\n",
    "*Kappa* and *lambda* are strongly correlated. My sense is to create a new variable of their sum, which we know is informative given flc.grp, and also create a new variable called flc.ratio representing the ratio between the two. It will be important to then check the correlation between these two. \n",
    "\n",
    "From the paper and from plotting I can see that flc.grp is just the sum of kappa and lambda together, binned into deciles. I want to get rid of these arbitrary bins and return this value to its raw form, which is better practice."
   ]
  },
  {
   "cell_type": "code",
   "execution_count": 53,
   "metadata": {},
   "outputs": [
    {
     "data": {
      "text/html": [
       "<div>\n",
       "<style scoped>\n",
       "    .dataframe tbody tr th:only-of-type {\n",
       "        vertical-align: middle;\n",
       "    }\n",
       "\n",
       "    .dataframe tbody tr th {\n",
       "        vertical-align: top;\n",
       "    }\n",
       "\n",
       "    .dataframe thead th {\n",
       "        text-align: right;\n",
       "    }\n",
       "</style>\n",
       "<table border=\"1\" class=\"dataframe\">\n",
       "  <thead>\n",
       "    <tr style=\"text-align: right;\">\n",
       "      <th></th>\n",
       "      <th>age</th>\n",
       "      <th>creatinine</th>\n",
       "      <th>flc.grp</th>\n",
       "      <th>kappa</th>\n",
       "      <th>lambda</th>\n",
       "      <th>sample.yr</th>\n",
       "      <th>death</th>\n",
       "      <th>futime</th>\n",
       "      <th>circ_death</th>\n",
       "    </tr>\n",
       "  </thead>\n",
       "  <tbody>\n",
       "    <tr>\n",
       "      <th>age</th>\n",
       "      <td>1.000000</td>\n",
       "      <td>0.116439</td>\n",
       "      <td>0.317990</td>\n",
       "      <td>0.279997</td>\n",
       "      <td>0.229881</td>\n",
       "      <td>-0.125051</td>\n",
       "      <td>0.539427</td>\n",
       "      <td>-0.405917</td>\n",
       "      <td>0.345834</td>\n",
       "    </tr>\n",
       "    <tr>\n",
       "      <th>creatinine</th>\n",
       "      <td>0.116439</td>\n",
       "      <td>1.000000</td>\n",
       "      <td>0.259453</td>\n",
       "      <td>0.553277</td>\n",
       "      <td>0.502504</td>\n",
       "      <td>0.043304</td>\n",
       "      <td>0.157080</td>\n",
       "      <td>-0.190837</td>\n",
       "      <td>0.126660</td>\n",
       "    </tr>\n",
       "    <tr>\n",
       "      <th>flc.grp</th>\n",
       "      <td>0.317990</td>\n",
       "      <td>0.259453</td>\n",
       "      <td>1.000000</td>\n",
       "      <td>0.703849</td>\n",
       "      <td>0.653835</td>\n",
       "      <td>0.072409</td>\n",
       "      <td>0.279271</td>\n",
       "      <td>-0.284912</td>\n",
       "      <td>0.183771</td>\n",
       "    </tr>\n",
       "    <tr>\n",
       "      <th>kappa</th>\n",
       "      <td>0.279997</td>\n",
       "      <td>0.553277</td>\n",
       "      <td>0.703849</td>\n",
       "      <td>1.000000</td>\n",
       "      <td>0.819552</td>\n",
       "      <td>0.076069</td>\n",
       "      <td>0.284790</td>\n",
       "      <td>-0.324305</td>\n",
       "      <td>0.185008</td>\n",
       "    </tr>\n",
       "    <tr>\n",
       "      <th>lambda</th>\n",
       "      <td>0.229881</td>\n",
       "      <td>0.502504</td>\n",
       "      <td>0.653835</td>\n",
       "      <td>0.819552</td>\n",
       "      <td>1.000000</td>\n",
       "      <td>0.002739</td>\n",
       "      <td>0.256982</td>\n",
       "      <td>-0.279041</td>\n",
       "      <td>0.152651</td>\n",
       "    </tr>\n",
       "    <tr>\n",
       "      <th>sample.yr</th>\n",
       "      <td>-0.125051</td>\n",
       "      <td>0.043304</td>\n",
       "      <td>0.072409</td>\n",
       "      <td>0.076069</td>\n",
       "      <td>0.002739</td>\n",
       "      <td>1.000000</td>\n",
       "      <td>-0.121811</td>\n",
       "      <td>-0.315571</td>\n",
       "      <td>-0.086331</td>\n",
       "    </tr>\n",
       "    <tr>\n",
       "      <th>death</th>\n",
       "      <td>0.539427</td>\n",
       "      <td>0.157080</td>\n",
       "      <td>0.279271</td>\n",
       "      <td>0.284790</td>\n",
       "      <td>0.256982</td>\n",
       "      <td>-0.121811</td>\n",
       "      <td>1.000000</td>\n",
       "      <td>-0.639805</td>\n",
       "      <td>0.524278</td>\n",
       "    </tr>\n",
       "    <tr>\n",
       "      <th>futime</th>\n",
       "      <td>-0.405917</td>\n",
       "      <td>-0.190837</td>\n",
       "      <td>-0.284912</td>\n",
       "      <td>-0.324305</td>\n",
       "      <td>-0.279041</td>\n",
       "      <td>-0.315571</td>\n",
       "      <td>-0.639805</td>\n",
       "      <td>1.000000</td>\n",
       "      <td>-0.358691</td>\n",
       "    </tr>\n",
       "    <tr>\n",
       "      <th>circ_death</th>\n",
       "      <td>0.345834</td>\n",
       "      <td>0.126660</td>\n",
       "      <td>0.183771</td>\n",
       "      <td>0.185008</td>\n",
       "      <td>0.152651</td>\n",
       "      <td>-0.086331</td>\n",
       "      <td>0.524278</td>\n",
       "      <td>-0.358691</td>\n",
       "      <td>1.000000</td>\n",
       "    </tr>\n",
       "  </tbody>\n",
       "</table>\n",
       "</div>"
      ],
      "text/plain": [
       "                 age  creatinine   flc.grp     kappa    lambda  sample.yr  \\\n",
       "age         1.000000    0.116439  0.317990  0.279997  0.229881  -0.125051   \n",
       "creatinine  0.116439    1.000000  0.259453  0.553277  0.502504   0.043304   \n",
       "flc.grp     0.317990    0.259453  1.000000  0.703849  0.653835   0.072409   \n",
       "kappa       0.279997    0.553277  0.703849  1.000000  0.819552   0.076069   \n",
       "lambda      0.229881    0.502504  0.653835  0.819552  1.000000   0.002739   \n",
       "sample.yr  -0.125051    0.043304  0.072409  0.076069  0.002739   1.000000   \n",
       "death       0.539427    0.157080  0.279271  0.284790  0.256982  -0.121811   \n",
       "futime     -0.405917   -0.190837 -0.284912 -0.324305 -0.279041  -0.315571   \n",
       "circ_death  0.345834    0.126660  0.183771  0.185008  0.152651  -0.086331   \n",
       "\n",
       "               death    futime  circ_death  \n",
       "age         0.539427 -0.405917    0.345834  \n",
       "creatinine  0.157080 -0.190837    0.126660  \n",
       "flc.grp     0.279271 -0.284912    0.183771  \n",
       "kappa       0.284790 -0.324305    0.185008  \n",
       "lambda      0.256982 -0.279041    0.152651  \n",
       "sample.yr  -0.121811 -0.315571   -0.086331  \n",
       "death       1.000000 -0.639805    0.524278  \n",
       "futime     -0.639805  1.000000   -0.358691  \n",
       "circ_death  0.524278 -0.358691    1.000000  "
      ]
     },
     "execution_count": 53,
     "metadata": {},
     "output_type": "execute_result"
    }
   ],
   "source": [
    "df.corr()"
   ]
  },
  {
   "cell_type": "code",
   "execution_count": 54,
   "metadata": {},
   "outputs": [
    {
     "data": {
      "image/png": "[encoded data removed]",
      "text/plain": [
       "<Figure size 432x288 with 2 Axes>"
      ]
     },
     "metadata": {
      "needs_background": "light"
     },
     "output_type": "display_data"
    }
   ],
   "source": [
    "corrMatrix = df.corr()\n",
    "\n",
    "sn.heatmap(corrMatrix, annot=True)\n",
    "plt.show()"
   ]
  },
  {
   "cell_type": "markdown",
   "metadata": {},
   "source": [
    "### Feature wrangling"
   ]
  },
  {
   "cell_type": "code",
   "execution_count": 63,
   "metadata": {},
   "outputs": [],
   "source": [
    "df['kl_sum'] = df['kappa'] + df['lambda']\n",
    "df['kl_ratio'] = df['kappa'] / df['lambda']"
   ]
  },
  {
   "cell_type": "code",
   "execution_count": 64,
   "metadata": {},
   "outputs": [
    {
     "data": {
      "text/html": [
       "<div>\n",
       "<style scoped>\n",
       "    .dataframe tbody tr th:only-of-type {\n",
       "        vertical-align: middle;\n",
       "    }\n",
       "\n",
       "    .dataframe tbody tr th {\n",
       "        vertical-align: top;\n",
       "    }\n",
       "\n",
       "    .dataframe thead th {\n",
       "        text-align: right;\n",
       "    }\n",
       "</style>\n",
       "<table border=\"1\" class=\"dataframe\">\n",
       "  <thead>\n",
       "    <tr style=\"text-align: right;\">\n",
       "      <th></th>\n",
       "      <th>age</th>\n",
       "      <th>creatinine</th>\n",
       "      <th>flc.grp</th>\n",
       "      <th>kappa</th>\n",
       "      <th>lambda</th>\n",
       "      <th>sample.yr</th>\n",
       "      <th>death</th>\n",
       "      <th>futime</th>\n",
       "      <th>circ_death</th>\n",
       "      <th>kl_sum</th>\n",
       "      <th>kl_ratio</th>\n",
       "    </tr>\n",
       "  </thead>\n",
       "  <tbody>\n",
       "    <tr>\n",
       "      <th>age</th>\n",
       "      <td>1.000000</td>\n",
       "      <td>0.116439</td>\n",
       "      <td>0.317990</td>\n",
       "      <td>0.279997</td>\n",
       "      <td>0.229881</td>\n",
       "      <td>-0.125051</td>\n",
       "      <td>0.539427</td>\n",
       "      <td>-0.405917</td>\n",
       "      <td>0.345834</td>\n",
       "      <td>0.264777</td>\n",
       "      <td>0.016453</td>\n",
       "    </tr>\n",
       "    <tr>\n",
       "      <th>creatinine</th>\n",
       "      <td>0.116439</td>\n",
       "      <td>1.000000</td>\n",
       "      <td>0.259453</td>\n",
       "      <td>0.553277</td>\n",
       "      <td>0.502504</td>\n",
       "      <td>0.043304</td>\n",
       "      <td>0.157080</td>\n",
       "      <td>-0.190837</td>\n",
       "      <td>0.126660</td>\n",
       "      <td>0.550158</td>\n",
       "      <td>0.049788</td>\n",
       "    </tr>\n",
       "    <tr>\n",
       "      <th>flc.grp</th>\n",
       "      <td>0.317990</td>\n",
       "      <td>0.259453</td>\n",
       "      <td>1.000000</td>\n",
       "      <td>0.703849</td>\n",
       "      <td>0.653835</td>\n",
       "      <td>0.072409</td>\n",
       "      <td>0.279271</td>\n",
       "      <td>-0.284912</td>\n",
       "      <td>0.183771</td>\n",
       "      <td>0.709715</td>\n",
       "      <td>0.028100</td>\n",
       "    </tr>\n",
       "    <tr>\n",
       "      <th>kappa</th>\n",
       "      <td>0.279997</td>\n",
       "      <td>0.553277</td>\n",
       "      <td>0.703849</td>\n",
       "      <td>1.000000</td>\n",
       "      <td>0.819552</td>\n",
       "      <td>0.076069</td>\n",
       "      <td>0.284790</td>\n",
       "      <td>-0.324305</td>\n",
       "      <td>0.185008</td>\n",
       "      <td>0.947021</td>\n",
       "      <td>0.144082</td>\n",
       "    </tr>\n",
       "    <tr>\n",
       "      <th>lambda</th>\n",
       "      <td>0.229881</td>\n",
       "      <td>0.502504</td>\n",
       "      <td>0.653835</td>\n",
       "      <td>0.819552</td>\n",
       "      <td>1.000000</td>\n",
       "      <td>0.002739</td>\n",
       "      <td>0.256982</td>\n",
       "      <td>-0.279041</td>\n",
       "      <td>0.152651</td>\n",
       "      <td>0.960166</td>\n",
       "      <td>-0.105287</td>\n",
       "    </tr>\n",
       "    <tr>\n",
       "      <th>sample.yr</th>\n",
       "      <td>-0.125051</td>\n",
       "      <td>0.043304</td>\n",
       "      <td>0.072409</td>\n",
       "      <td>0.076069</td>\n",
       "      <td>0.002739</td>\n",
       "      <td>1.000000</td>\n",
       "      <td>-0.121811</td>\n",
       "      <td>-0.315571</td>\n",
       "      <td>-0.086331</td>\n",
       "      <td>0.038631</td>\n",
       "      <td>0.065388</td>\n",
       "    </tr>\n",
       "    <tr>\n",
       "      <th>death</th>\n",
       "      <td>0.539427</td>\n",
       "      <td>0.157080</td>\n",
       "      <td>0.279271</td>\n",
       "      <td>0.284790</td>\n",
       "      <td>0.256982</td>\n",
       "      <td>-0.121811</td>\n",
       "      <td>1.000000</td>\n",
       "      <td>-0.639805</td>\n",
       "      <td>0.524278</td>\n",
       "      <td>0.282920</td>\n",
       "      <td>0.020537</td>\n",
       "    </tr>\n",
       "    <tr>\n",
       "      <th>futime</th>\n",
       "      <td>-0.405917</td>\n",
       "      <td>-0.190837</td>\n",
       "      <td>-0.284912</td>\n",
       "      <td>-0.324305</td>\n",
       "      <td>-0.279041</td>\n",
       "      <td>-0.315571</td>\n",
       "      <td>-0.639805</td>\n",
       "      <td>1.000000</td>\n",
       "      <td>-0.358691</td>\n",
       "      <td>-0.314554</td>\n",
       "      <td>-0.041107</td>\n",
       "    </tr>\n",
       "    <tr>\n",
       "      <th>circ_death</th>\n",
       "      <td>0.345834</td>\n",
       "      <td>0.126660</td>\n",
       "      <td>0.183771</td>\n",
       "      <td>0.185008</td>\n",
       "      <td>0.152651</td>\n",
       "      <td>-0.086331</td>\n",
       "      <td>0.524278</td>\n",
       "      <td>-0.358691</td>\n",
       "      <td>1.000000</td>\n",
       "      <td>0.175782</td>\n",
       "      <td>0.018044</td>\n",
       "    </tr>\n",
       "    <tr>\n",
       "      <th>kl_sum</th>\n",
       "      <td>0.264777</td>\n",
       "      <td>0.550158</td>\n",
       "      <td>0.709715</td>\n",
       "      <td>0.947021</td>\n",
       "      <td>0.960166</td>\n",
       "      <td>0.038631</td>\n",
       "      <td>0.282920</td>\n",
       "      <td>-0.314554</td>\n",
       "      <td>0.175782</td>\n",
       "      <td>1.000000</td>\n",
       "      <td>0.011249</td>\n",
       "    </tr>\n",
       "    <tr>\n",
       "      <th>kl_ratio</th>\n",
       "      <td>0.016453</td>\n",
       "      <td>0.049788</td>\n",
       "      <td>0.028100</td>\n",
       "      <td>0.144082</td>\n",
       "      <td>-0.105287</td>\n",
       "      <td>0.065388</td>\n",
       "      <td>0.020537</td>\n",
       "      <td>-0.041107</td>\n",
       "      <td>0.018044</td>\n",
       "      <td>0.011249</td>\n",
       "      <td>1.000000</td>\n",
       "    </tr>\n",
       "  </tbody>\n",
       "</table>\n",
       "</div>"
      ],
      "text/plain": [
       "                 age  creatinine   flc.grp     kappa    lambda  sample.yr  \\\n",
       "age         1.000000    0.116439  0.317990  0.279997  0.229881  -0.125051   \n",
       "creatinine  0.116439    1.000000  0.259453  0.553277  0.502504   0.043304   \n",
       "flc.grp     0.317990    0.259453  1.000000  0.703849  0.653835   0.072409   \n",
       "kappa       0.279997    0.553277  0.703849  1.000000  0.819552   0.076069   \n",
       "lambda      0.229881    0.502504  0.653835  0.819552  1.000000   0.002739   \n",
       "sample.yr  -0.125051    0.043304  0.072409  0.076069  0.002739   1.000000   \n",
       "death       0.539427    0.157080  0.279271  0.284790  0.256982  -0.121811   \n",
       "futime     -0.405917   -0.190837 -0.284912 -0.324305 -0.279041  -0.315571   \n",
       "circ_death  0.345834    0.126660  0.183771  0.185008  0.152651  -0.086331   \n",
       "kl_sum      0.264777    0.550158  0.709715  0.947021  0.960166   0.038631   \n",
       "kl_ratio    0.016453    0.049788  0.028100  0.144082 -0.105287   0.065388   \n",
       "\n",
       "               death    futime  circ_death    kl_sum  kl_ratio  \n",
       "age         0.539427 -0.405917    0.345834  0.264777  0.016453  \n",
       "creatinine  0.157080 -0.190837    0.126660  0.550158  0.049788  \n",
       "flc.grp     0.279271 -0.284912    0.183771  0.709715  0.028100  \n",
       "kappa       0.284790 -0.324305    0.185008  0.947021  0.144082  \n",
       "lambda      0.256982 -0.279041    0.152651  0.960166 -0.105287  \n",
       "sample.yr  -0.121811 -0.315571   -0.086331  0.038631  0.065388  \n",
       "death       1.000000 -0.639805    0.524278  0.282920  0.020537  \n",
       "futime     -0.639805  1.000000   -0.358691 -0.314554 -0.041107  \n",
       "circ_death  0.524278 -0.358691    1.000000  0.175782  0.018044  \n",
       "kl_sum      0.282920 -0.314554    0.175782  1.000000  0.011249  \n",
       "kl_ratio    0.020537 -0.041107    0.018044  0.011249  1.000000  "
      ]
     },
     "execution_count": 64,
     "metadata": {},
     "output_type": "execute_result"
    }
   ],
   "source": [
    "# Check correlations of new variables\n",
    "df.corr()"
   ]
  },
  {
   "cell_type": "code",
   "execution_count": 11,
   "metadata": {},
   "outputs": [],
   "source": [
    "df[\"sex\"] = df[\"sex\"].astype(\"category\")\n",
    "df[\"mgus\"] = df[\"mgus\"].astype(\"category\")\n",
    "df[\"sample.yr\"] = df[\"sample.yr\"].astype(\"float\") # temporary hack "
   ]
  },
  {
   "cell_type": "code",
   "execution_count": 17,
   "metadata": {},
   "outputs": [],
   "source": [
    "# Define outcome variable\n",
    "df['circ_death'] = np.where((df.death == True) & ((df.chapter == 'Circulatory')), True, False)"
   ]
  },
  {
   "cell_type": "code",
   "execution_count": 58,
   "metadata": {},
   "outputs": [
    {
     "data": {
      "text/plain": [
       "False    7129\n",
       "True      745\n",
       "Name: circ_death, dtype: int64"
      ]
     },
     "execution_count": 58,
     "metadata": {},
     "output_type": "execute_result"
    }
   ],
   "source": [
    "df.circ_death.value_counts() # 745 deaths from circulatory causes"
   ]
  },
  {
   "cell_type": "markdown",
   "metadata": {},
   "source": [
    "##### Missing data counts\n",
    "Age and creatinine are missing for the same ~17% of individuals. I'm going to use multiple imputation later on to handle these, but I'll wait until I've split the train and test sets so there is no data leakage into the test set."
   ]
  },
  {
   "cell_type": "code",
   "execution_count": 59,
   "metadata": {},
   "outputs": [
    {
     "data": {
      "text/plain": [
       "age           1350\n",
       "chapter       5705\n",
       "creatinine    1350\n",
       "flc.grp          0\n",
       "kappa            0\n",
       "lambda           0\n",
       "mgus             0\n",
       "sample.yr        0\n",
       "sex              0\n",
       "death            0\n",
       "futime           0\n",
       "circ_death       0\n",
       "kl_sum           0\n",
       "dtype: int64"
      ]
     },
     "execution_count": 59,
     "metadata": {},
     "output_type": "execute_result"
    }
   ],
   "source": [
    "df.isnull().sum(axis = 0)"
   ]
  },
  {
   "cell_type": "markdown",
   "metadata": {},
   "source": [
    "### Kaplan Meier curve\n",
    "\n",
    "The estimated curve is a step function, with steps occurring at time points where one or more patients died."
   ]
  },
  {
   "cell_type": "code",
   "execution_count": 60,
   "metadata": {
    "scrolled": true
   },
   "outputs": [
    {
     "data": {
      "text/plain": [
       "Text(0.5, 1.0, 'Survival function')"
      ]
     },
     "execution_count": 60,
     "metadata": {},
     "output_type": "execute_result"
    },
    {
     "data": {
      "image/png": "[encoded data removed]",
      "text/plain": [
       "<Figure size 432x288 with 1 Axes>"
      ]
     },
     "metadata": {
      "needs_background": "light"
     },
     "output_type": "display_data"
    }
   ],
   "source": [
    "kmf = KaplanMeierFitter()\n",
    "kmf.fit(durations = df.futime, event_observed = df.circ_death)\n",
    "kmf.plot_survival_function()\n",
    "plt.title('Survival function')"
   ]
  },
  {
   "cell_type": "code",
   "execution_count": 61,
   "metadata": {},
   "outputs": [
    {
     "data": {
      "text/plain": [
       "<lifelines.KaplanMeierFitter:\"KM_estimate\", fitted with 7874 total observations, 7129 right-censored observations>"
      ]
     },
     "execution_count": 61,
     "metadata": {},
     "output_type": "execute_result"
    }
   ],
   "source": [
    "kmf"
   ]
  },
  {
   "cell_type": "markdown",
   "metadata": {},
   "source": [
    "### Multivariate Survival Model: Cox Proportional Hazards Regression\n",
    "\n",
    "First let's split the data into derivation (train) and validation (test) sets. There are numerous ways to approach this, such as randomly splitting the data in a way that ensures equivalent class balance in each group. However, a genuine external temporal validation will be most able to show us bias. Most of the data are collected in the late 90s - I'm very interested to see how trends generalise to later years, as a good survival model should be flexible to developments in technology and sociopolitical trends regarding access to healthcare over time. It's feasible there will be many differences in healthcare (technologically, socially etc) in those years. Will they stand up?\n",
    "\n",
    "Taking the last few years of data as our test set should allot just above 10% of the total rows of data.\n",
    "\n",
    "#### Feature selection\n",
    "Sample year is used to split our variables, so in it's raw form it might not be useful. However there MAY be a function of time - a linear relationship?"
   ]
  },
  {
   "cell_type": "code",
   "execution_count": 103,
   "metadata": {},
   "outputs": [
    {
     "name": "stderr",
     "output_type": "stream",
     "text": [
      "/var/folders/21/ys10fbm105d1rxr4098dlw6c0000gn/T/ipykernel_6841/888438765.py:7: FutureWarning: In a future version of pandas all arguments of DataFrame.drop except for the argument 'labels' will be keyword-only.\n",
      "  test_y = df[df[\"sample.yr\"].isin(exclude_years)].drop(['chapter'], 1).filter(['circ_death', 'futime'])\n",
      "/var/folders/21/ys10fbm105d1rxr4098dlw6c0000gn/T/ipykernel_6841/888438765.py:9: FutureWarning: In a future version of pandas all arguments of DataFrame.drop except for the argument 'labels' will be keyword-only.\n",
      "  test_x = df[df[\"sample.yr\"].isin(exclude_years)].drop(['chapter'], 1).filter(['age','kappa', 'lambda', 'mgus', 'creatinine'])\n"
     ]
    }
   ],
   "source": [
    "exclude_years = 1999, 2000, 2001, 2002, 2003\n",
    "\n",
    "train_y = df[df[\"sample.yr\"].isin(exclude_years) == False].filter(['circ_death', 'futime'])\n",
    "\n",
    "train_x = df[df[\"sample.yr\"].isin(exclude_years) == False].filter(['age','kappa', 'lambda', 'mgus', 'creatinine']) #temporarily remove age and creatinine\n",
    "\n",
    "test_y = df[df[\"sample.yr\"].isin(exclude_years)].drop(['chapter'], 1).filter(['circ_death', 'futime'])\n",
    "\n",
    "test_x = df[df[\"sample.yr\"].isin(exclude_years)].drop(['chapter'], 1).filter(['age','kappa', 'lambda', 'mgus', 'creatinine'])"
   ]
  },
  {
   "cell_type": "code",
   "execution_count": 104,
   "metadata": {},
   "outputs": [
    {
     "data": {
      "text/html": [
       "<div>\n",
       "<style scoped>\n",
       "    .dataframe tbody tr th:only-of-type {\n",
       "        vertical-align: middle;\n",
       "    }\n",
       "\n",
       "    .dataframe tbody tr th {\n",
       "        vertical-align: top;\n",
       "    }\n",
       "\n",
       "    .dataframe thead th {\n",
       "        text-align: right;\n",
       "    }\n",
       "</style>\n",
       "<table border=\"1\" class=\"dataframe\">\n",
       "  <thead>\n",
       "    <tr style=\"text-align: right;\">\n",
       "      <th></th>\n",
       "      <th>age</th>\n",
       "      <th>kappa</th>\n",
       "      <th>lambda</th>\n",
       "      <th>mgus</th>\n",
       "      <th>creatinine</th>\n",
       "    </tr>\n",
       "  </thead>\n",
       "  <tbody>\n",
       "    <tr>\n",
       "      <th>0</th>\n",
       "      <td>97.0</td>\n",
       "      <td>5.70</td>\n",
       "      <td>4.86</td>\n",
       "      <td>no</td>\n",
       "      <td>1.7</td>\n",
       "    </tr>\n",
       "    <tr>\n",
       "      <th>2</th>\n",
       "      <td>94.0</td>\n",
       "      <td>4.36</td>\n",
       "      <td>3.85</td>\n",
       "      <td>no</td>\n",
       "      <td>1.4</td>\n",
       "    </tr>\n",
       "    <tr>\n",
       "      <th>3</th>\n",
       "      <td>92.0</td>\n",
       "      <td>2.42</td>\n",
       "      <td>2.22</td>\n",
       "      <td>no</td>\n",
       "      <td>1.0</td>\n",
       "    </tr>\n",
       "    <tr>\n",
       "      <th>4</th>\n",
       "      <td>93.0</td>\n",
       "      <td>1.32</td>\n",
       "      <td>1.69</td>\n",
       "      <td>no</td>\n",
       "      <td>1.1</td>\n",
       "    </tr>\n",
       "    <tr>\n",
       "      <th>5</th>\n",
       "      <td>90.0</td>\n",
       "      <td>2.01</td>\n",
       "      <td>1.86</td>\n",
       "      <td>no</td>\n",
       "      <td>1.0</td>\n",
       "    </tr>\n",
       "  </tbody>\n",
       "</table>\n",
       "</div>"
      ],
      "text/plain": [
       "    age  kappa  lambda mgus  creatinine\n",
       "0  97.0   5.70    4.86   no         1.7\n",
       "2  94.0   4.36    3.85   no         1.4\n",
       "3  92.0   2.42    2.22   no         1.0\n",
       "4  93.0   1.32    1.69   no         1.1\n",
       "5  90.0   2.01    1.86   no         1.0"
      ]
     },
     "execution_count": 104,
     "metadata": {},
     "output_type": "execute_result"
    }
   ],
   "source": [
    "train_x.head()"
   ]
  },
  {
   "cell_type": "markdown",
   "metadata": {},
   "source": [
    "##### Short hacky way of replacing missing values"
   ]
  },
  {
   "cell_type": "code",
   "execution_count": 105,
   "metadata": {},
   "outputs": [],
   "source": [
    "train_x[\"age\"].fillna(train_x[\"age\"].median(), inplace = True) # Median as heavily right skewed\n",
    "train_x[\"creatinine\"].fillna(train_x[\"creatinine\"].median(), inplace = True) # Median as heavily right skewed\n",
    "\n",
    "test_x[\"age\"].fillna(test_x[\"age\"].median(), inplace = True) # Median as heavily right skewed\n",
    "test_x[\"creatinine\"].fillna(test_x[\"creatinine\"].median(), inplace = True) # Median as heavily right skewed"
   ]
  },
  {
   "cell_type": "code",
   "execution_count": 106,
   "metadata": {},
   "outputs": [
    {
     "data": {
      "text/html": [
       "<div>\n",
       "<style scoped>\n",
       "    .dataframe tbody tr th:only-of-type {\n",
       "        vertical-align: middle;\n",
       "    }\n",
       "\n",
       "    .dataframe tbody tr th {\n",
       "        vertical-align: top;\n",
       "    }\n",
       "\n",
       "    .dataframe thead th {\n",
       "        text-align: right;\n",
       "    }\n",
       "</style>\n",
       "<table border=\"1\" class=\"dataframe\">\n",
       "  <thead>\n",
       "    <tr style=\"text-align: right;\">\n",
       "      <th></th>\n",
       "      <th>age</th>\n",
       "      <th>kappa</th>\n",
       "      <th>lambda</th>\n",
       "      <th>mgus=yes</th>\n",
       "      <th>creatinine</th>\n",
       "    </tr>\n",
       "  </thead>\n",
       "  <tbody>\n",
       "    <tr>\n",
       "      <th>0</th>\n",
       "      <td>97.0</td>\n",
       "      <td>5.70</td>\n",
       "      <td>4.86</td>\n",
       "      <td>0.0</td>\n",
       "      <td>1.7</td>\n",
       "    </tr>\n",
       "    <tr>\n",
       "      <th>2</th>\n",
       "      <td>94.0</td>\n",
       "      <td>4.36</td>\n",
       "      <td>3.85</td>\n",
       "      <td>0.0</td>\n",
       "      <td>1.4</td>\n",
       "    </tr>\n",
       "    <tr>\n",
       "      <th>3</th>\n",
       "      <td>92.0</td>\n",
       "      <td>2.42</td>\n",
       "      <td>2.22</td>\n",
       "      <td>0.0</td>\n",
       "      <td>1.0</td>\n",
       "    </tr>\n",
       "    <tr>\n",
       "      <th>4</th>\n",
       "      <td>93.0</td>\n",
       "      <td>1.32</td>\n",
       "      <td>1.69</td>\n",
       "      <td>0.0</td>\n",
       "      <td>1.1</td>\n",
       "    </tr>\n",
       "    <tr>\n",
       "      <th>5</th>\n",
       "      <td>90.0</td>\n",
       "      <td>2.01</td>\n",
       "      <td>1.86</td>\n",
       "      <td>0.0</td>\n",
       "      <td>1.0</td>\n",
       "    </tr>\n",
       "  </tbody>\n",
       "</table>\n",
       "</div>"
      ],
      "text/plain": [
       "    age  kappa  lambda  mgus=yes  creatinine\n",
       "0  97.0   5.70    4.86       0.0         1.7\n",
       "2  94.0   4.36    3.85       0.0         1.4\n",
       "3  92.0   2.42    2.22       0.0         1.0\n",
       "4  93.0   1.32    1.69       0.0         1.1\n",
       "5  90.0   2.01    1.86       0.0         1.0"
      ]
     },
     "execution_count": 106,
     "metadata": {},
     "output_type": "execute_result"
    }
   ],
   "source": [
    "from sksurv.preprocessing import OneHotEncoder\n",
    "\n",
    "train_numeric = OneHotEncoder().fit_transform(train_x) # We convert categorical variables in the data set into numeric values.\n",
    "train_numeric.head()"
   ]
  },
  {
   "cell_type": "code",
   "execution_count": 107,
   "metadata": {},
   "outputs": [
    {
     "data": {
      "text/html": [
       "<div>\n",
       "<style scoped>\n",
       "    .dataframe tbody tr th:only-of-type {\n",
       "        vertical-align: middle;\n",
       "    }\n",
       "\n",
       "    .dataframe tbody tr th {\n",
       "        vertical-align: top;\n",
       "    }\n",
       "\n",
       "    .dataframe thead th {\n",
       "        text-align: right;\n",
       "    }\n",
       "</style>\n",
       "<table border=\"1\" class=\"dataframe\">\n",
       "  <thead>\n",
       "    <tr style=\"text-align: right;\">\n",
       "      <th></th>\n",
       "      <th>age</th>\n",
       "      <th>kappa</th>\n",
       "      <th>lambda</th>\n",
       "      <th>mgus=yes</th>\n",
       "      <th>creatinine</th>\n",
       "    </tr>\n",
       "  </thead>\n",
       "  <tbody>\n",
       "    <tr>\n",
       "      <th>1</th>\n",
       "      <td>92.0</td>\n",
       "      <td>0.87</td>\n",
       "      <td>0.683</td>\n",
       "      <td>0.0</td>\n",
       "      <td>0.9</td>\n",
       "    </tr>\n",
       "    <tr>\n",
       "      <th>7</th>\n",
       "      <td>90.0</td>\n",
       "      <td>2.47</td>\n",
       "      <td>2.700</td>\n",
       "      <td>0.0</td>\n",
       "      <td>1.2</td>\n",
       "    </tr>\n",
       "    <tr>\n",
       "      <th>53</th>\n",
       "      <td>100.0</td>\n",
       "      <td>1.82</td>\n",
       "      <td>3.250</td>\n",
       "      <td>0.0</td>\n",
       "      <td>1.6</td>\n",
       "    </tr>\n",
       "    <tr>\n",
       "      <th>81</th>\n",
       "      <td>93.0</td>\n",
       "      <td>2.84</td>\n",
       "      <td>2.200</td>\n",
       "      <td>0.0</td>\n",
       "      <td>1.5</td>\n",
       "    </tr>\n",
       "    <tr>\n",
       "      <th>90</th>\n",
       "      <td>59.0</td>\n",
       "      <td>4.66</td>\n",
       "      <td>5.960</td>\n",
       "      <td>0.0</td>\n",
       "      <td>1.1</td>\n",
       "    </tr>\n",
       "  </tbody>\n",
       "</table>\n",
       "</div>"
      ],
      "text/plain": [
       "      age  kappa  lambda  mgus=yes  creatinine\n",
       "1    92.0   0.87   0.683       0.0         0.9\n",
       "7    90.0   2.47   2.700       0.0         1.2\n",
       "53  100.0   1.82   3.250       0.0         1.6\n",
       "81   93.0   2.84   2.200       0.0         1.5\n",
       "90   59.0   4.66   5.960       0.0         1.1"
      ]
     },
     "execution_count": 107,
     "metadata": {},
     "output_type": "execute_result"
    }
   ],
   "source": [
    "test_numeric = OneHotEncoder().fit_transform(test_x) # We convert categorical variables in the data set into numeric values.\n",
    "test_numeric.head()"
   ]
  },
  {
   "cell_type": "code",
   "execution_count": 108,
   "metadata": {
    "scrolled": true
   },
   "outputs": [
    {
     "data": {
      "text/plain": [
       "IterativeImputer(random_state=0)"
      ]
     },
     "execution_count": 108,
     "metadata": {},
     "output_type": "execute_result"
    }
   ],
   "source": [
    "# Import IterativeImputer from fancyimpute\n",
    "from sklearn.experimental import enable_iterative_imputer\n",
    "from sklearn.impute import IterativeImputer\n",
    "\n",
    "imp = IterativeImputer(max_iter=10, random_state=0)\n",
    "\n",
    "imp.fit(train_numeric)"
   ]
  },
  {
   "cell_type": "code",
   "execution_count": 109,
   "metadata": {},
   "outputs": [
    {
     "data": {
      "text/html": [
       "<div>\n",
       "<style scoped>\n",
       "    .dataframe tbody tr th:only-of-type {\n",
       "        vertical-align: middle;\n",
       "    }\n",
       "\n",
       "    .dataframe tbody tr th {\n",
       "        vertical-align: top;\n",
       "    }\n",
       "\n",
       "    .dataframe thead th {\n",
       "        text-align: right;\n",
       "    }\n",
       "</style>\n",
       "<table border=\"1\" class=\"dataframe\">\n",
       "  <thead>\n",
       "    <tr style=\"text-align: right;\">\n",
       "      <th></th>\n",
       "      <th>age</th>\n",
       "      <th>kappa</th>\n",
       "      <th>lambda</th>\n",
       "      <th>mgus=yes</th>\n",
       "      <th>creatinine</th>\n",
       "    </tr>\n",
       "  </thead>\n",
       "  <tbody>\n",
       "    <tr>\n",
       "      <th>0</th>\n",
       "      <td>97.0</td>\n",
       "      <td>5.700</td>\n",
       "      <td>4.86</td>\n",
       "      <td>0.0</td>\n",
       "      <td>1.7</td>\n",
       "    </tr>\n",
       "    <tr>\n",
       "      <th>2</th>\n",
       "      <td>94.0</td>\n",
       "      <td>4.360</td>\n",
       "      <td>3.85</td>\n",
       "      <td>0.0</td>\n",
       "      <td>1.4</td>\n",
       "    </tr>\n",
       "    <tr>\n",
       "      <th>3</th>\n",
       "      <td>92.0</td>\n",
       "      <td>2.420</td>\n",
       "      <td>2.22</td>\n",
       "      <td>0.0</td>\n",
       "      <td>1.0</td>\n",
       "    </tr>\n",
       "    <tr>\n",
       "      <th>4</th>\n",
       "      <td>93.0</td>\n",
       "      <td>1.320</td>\n",
       "      <td>1.69</td>\n",
       "      <td>0.0</td>\n",
       "      <td>1.1</td>\n",
       "    </tr>\n",
       "    <tr>\n",
       "      <th>5</th>\n",
       "      <td>90.0</td>\n",
       "      <td>2.010</td>\n",
       "      <td>1.86</td>\n",
       "      <td>0.0</td>\n",
       "      <td>1.0</td>\n",
       "    </tr>\n",
       "    <tr>\n",
       "      <th>...</th>\n",
       "      <td>...</td>\n",
       "      <td>...</td>\n",
       "      <td>...</td>\n",
       "      <td>...</td>\n",
       "      <td>...</td>\n",
       "    </tr>\n",
       "    <tr>\n",
       "      <th>7867</th>\n",
       "      <td>53.0</td>\n",
       "      <td>0.705</td>\n",
       "      <td>1.25</td>\n",
       "      <td>0.0</td>\n",
       "      <td>0.8</td>\n",
       "    </tr>\n",
       "    <tr>\n",
       "      <th>7868</th>\n",
       "      <td>52.0</td>\n",
       "      <td>0.786</td>\n",
       "      <td>1.03</td>\n",
       "      <td>0.0</td>\n",
       "      <td>0.7</td>\n",
       "    </tr>\n",
       "    <tr>\n",
       "      <th>7869</th>\n",
       "      <td>52.0</td>\n",
       "      <td>1.210</td>\n",
       "      <td>1.61</td>\n",
       "      <td>0.0</td>\n",
       "      <td>1.0</td>\n",
       "    </tr>\n",
       "    <tr>\n",
       "      <th>7872</th>\n",
       "      <td>64.0</td>\n",
       "      <td>1.710</td>\n",
       "      <td>2.69</td>\n",
       "      <td>0.0</td>\n",
       "      <td>1.0</td>\n",
       "    </tr>\n",
       "    <tr>\n",
       "      <th>7873</th>\n",
       "      <td>50.0</td>\n",
       "      <td>1.190</td>\n",
       "      <td>1.25</td>\n",
       "      <td>0.0</td>\n",
       "      <td>0.7</td>\n",
       "    </tr>\n",
       "  </tbody>\n",
       "</table>\n",
       "<p>6834 rows × 5 columns</p>\n",
       "</div>"
      ],
      "text/plain": [
       "       age  kappa  lambda  mgus=yes  creatinine\n",
       "0     97.0  5.700    4.86       0.0         1.7\n",
       "2     94.0  4.360    3.85       0.0         1.4\n",
       "3     92.0  2.420    2.22       0.0         1.0\n",
       "4     93.0  1.320    1.69       0.0         1.1\n",
       "5     90.0  2.010    1.86       0.0         1.0\n",
       "...    ...    ...     ...       ...         ...\n",
       "7867  53.0  0.705    1.25       0.0         0.8\n",
       "7868  52.0  0.786    1.03       0.0         0.7\n",
       "7869  52.0  1.210    1.61       0.0         1.0\n",
       "7872  64.0  1.710    2.69       0.0         1.0\n",
       "7873  50.0  1.190    1.25       0.0         0.7\n",
       "\n",
       "[6834 rows x 5 columns]"
      ]
     },
     "execution_count": 109,
     "metadata": {},
     "output_type": "execute_result"
    }
   ],
   "source": [
    "train_numeric"
   ]
  },
  {
   "cell_type": "code",
   "execution_count": 110,
   "metadata": {},
   "outputs": [
    {
     "name": "stdout",
     "output_type": "stream",
     "text": [
      "<class 'pandas.core.frame.DataFrame'>\n",
      "Int64Index: 1040 entries, 1 to 7871\n",
      "Data columns (total 5 columns):\n",
      " #   Column      Non-Null Count  Dtype  \n",
      "---  ------      --------------  -----  \n",
      " 0   age         1040 non-null   float64\n",
      " 1   kappa       1040 non-null   float64\n",
      " 2   lambda      1040 non-null   float64\n",
      " 3   mgus=yes    1040 non-null   float64\n",
      " 4   creatinine  1040 non-null   float64\n",
      "dtypes: float64(5)\n",
      "memory usage: 48.8 KB\n"
     ]
    }
   ],
   "source": [
    "test_numeric.info()"
   ]
  },
  {
   "cell_type": "markdown",
   "metadata": {},
   "source": [
    "To correctly apply iterative missing data imputation and avoid data leakage, it is required that the models for each column are calculated on the training dataset only, then applied to the train and test sets for each fold in the dataset.\n",
    "\n",
    "This can be achieved by creating a modeling pipeline where the first step is the iterative imputation, then the second step is the model. This can be achieved using the Pipeline class."
   ]
  },
  {
   "cell_type": "code",
   "execution_count": 111,
   "metadata": {},
   "outputs": [],
   "source": [
    "from sksurv.util import Surv\n",
    "\n",
    "train_y = Surv.from_dataframe(\"circ_death\", \"futime\", train_y)\n",
    "test_y = Surv.from_dataframe(\"circ_death\", \"futime\", test_y)"
   ]
  },
  {
   "cell_type": "code",
   "execution_count": 112,
   "metadata": {},
   "outputs": [
    {
     "data": {
      "text/plain": [
       "CoxPHSurvivalAnalysis()"
      ]
     },
     "execution_count": 112,
     "metadata": {},
     "output_type": "execute_result"
    }
   ],
   "source": [
    "from sksurv.linear_model import CoxPHSurvivalAnalysis\n",
    "\n",
    "\n",
    "estimator = CoxPHSurvivalAnalysis()\n",
    "estimator.fit(train_numeric, train_y)"
   ]
  },
  {
   "cell_type": "code",
   "execution_count": 113,
   "metadata": {},
   "outputs": [
    {
     "data": {
      "text/plain": [
       "age           0.121320\n",
       "kappa         0.122013\n",
       "lambda        0.137301\n",
       "mgus=yes      0.097603\n",
       "creatinine    0.055709\n",
       "dtype: float64"
      ]
     },
     "execution_count": 113,
     "metadata": {},
     "output_type": "execute_result"
    }
   ],
   "source": [
    "pd.Series(estimator.coef_, index= train_numeric.columns)"
   ]
  },
  {
   "cell_type": "code",
   "execution_count": 114,
   "metadata": {},
   "outputs": [],
   "source": [
    "pred_surv = estimator.predict_survival_function(test_numeric)"
   ]
  },
  {
   "cell_type": "markdown",
   "metadata": {},
   "source": [
    "## Success criteria / measuring performance\n",
    "\n",
    "We use generalization of the area under the receiver operating characteristic (ROC) curve called Harrell’s concordance index or c-index.\n",
    "\n",
    "The interpretation is identical to the traditional area under the ROC curve metric for binary classification: - a value of 0.5 denotes a random model, - a value of 1.0 denotes a perfect model, - a value of 0.0 denotes a perfectly wrong model.\n",
    "\n",
    "\n",
    "\n",
    "Validation options\n",
    "Table 3 lays out seven suggestions for external validation of models for time to event data. These are discussed individually below. The column headed ‘Aspect’ indicates whether a given method addresses the discrimination (D), calibration (C) or more general fit (F) of a model.\n",
    "\n",
    "#### Harrell's C - a note\n",
    "Harrell’s concordance index is known to be biased upwards if the amount of censoring in the test data is high. There is huge censoring for the outcome of death from a circulatory disease and therefore Harrell'C is not appropriate. it is not a useful measure of performance if a specific time range is of primary interest (e.g. predicting death within 2 years). \n",
    "\n",
    "In this case we'll use time dependent ROC.\n",
    "\n",
    "#### Cumlative dynamic AUC"
   ]
  },
  {
   "cell_type": "code",
   "execution_count": 115,
   "metadata": {},
   "outputs": [
    {
     "data": {
      "text/plain": [
       "Pipeline(steps=[('onehotencoder', OneHotEncoder()),\n",
       "                ('coxphsurvivalanalysis', CoxPHSurvivalAnalysis())])"
      ]
     },
     "execution_count": 115,
     "metadata": {},
     "output_type": "execute_result"
    }
   ],
   "source": [
    "from sklearn.pipeline import make_pipeline\n",
    "\n",
    "cph = make_pipeline(OneHotEncoder(), CoxPHSurvivalAnalysis())\n",
    "cph.fit(train_numeric, train_y)"
   ]
  },
  {
   "cell_type": "code",
   "execution_count": null,
   "metadata": {},
   "outputs": [],
   "source": [
    "The plot shows that our model performs "
   ]
  },
  {
   "cell_type": "code",
   "execution_count": 122,
   "metadata": {},
   "outputs": [
    {
     "data": {
      "image/png": "[encoded data removed]",
      "text/plain": [
       "<Figure size 1080x288 with 1 Axes>"
      ]
     },
     "metadata": {
      "needs_background": "light"
     },
     "output_type": "display_data"
    }
   ],
   "source": [
    "va_times = np.arange(8, 2520, 30) # Weekly intervals from the first week, for 7 years\n",
    "\n",
    "cph_risk_scores = cph.predict(test_numeric)\n",
    "cph_auc, cph_mean_auc = cumulative_dynamic_auc(\n",
    "    train_y, test_y, cph_risk_scores, va_times\n",
    ")\n",
    "\n",
    "plt.rcParams[\"figure.figsize\"] = (15,4)\n",
    "\n",
    "\n",
    "plt.plot(va_times, cph_auc, marker=\"o\")\n",
    "plt.axhline(cph_mean_auc, linestyle=\"--\")\n",
    "plt.xlabel(\"Days from enrollment\")\n",
    "plt.ylabel(\"Time-dependent AUC\")\n",
    "plt.grid(True)"
   ]
  },
  {
   "cell_type": "code",
   "execution_count": 79,
   "metadata": {},
   "outputs": [
    {
     "ename": "ValueError",
     "evalue": "y must be a structured array with the first field being a binary class event indicator and the second field the time of the event/censoring",
     "output_type": "error",
     "traceback": [
      "\u001b[0;31m---------------------------------------------------------------------------\u001b[0m",
      "\u001b[0;31mValueError\u001b[0m                                Traceback (most recent call last)",
      "Input \u001b[0;32mIn [79]\u001b[0m, in \u001b[0;36m<cell line: 9>\u001b[0;34m()\u001b[0m\n\u001b[1;32m      7\u001b[0m \u001b[38;5;66;03m# Internal validation\u001b[39;00m\n\u001b[1;32m      8\u001b[0m prediction \u001b[38;5;241m=\u001b[39m estimator\u001b[38;5;241m.\u001b[39mpredict(train_numeric)\n\u001b[0;32m----> 9\u001b[0m result \u001b[38;5;241m=\u001b[39m \u001b[43mconcordance_index_ipcw\u001b[49m\u001b[43m(\u001b[49m\u001b[43mtrain_y\u001b[49m\u001b[43m[\u001b[49m\u001b[38;5;124;43m\"\u001b[39;49m\u001b[38;5;124;43mcirc_death\u001b[39;49m\u001b[38;5;124;43m\"\u001b[39;49m\u001b[43m]\u001b[49m\u001b[43m,\u001b[49m\u001b[43m \u001b[49m\u001b[43mtrain_y\u001b[49m\u001b[43m[\u001b[49m\u001b[38;5;124;43m\"\u001b[39;49m\u001b[38;5;124;43mfutime\u001b[39;49m\u001b[38;5;124;43m\"\u001b[39;49m\u001b[43m]\u001b[49m\u001b[43m,\u001b[49m\u001b[43m \u001b[49m\u001b[43mprediction\u001b[49m\u001b[43m)\u001b[49m\n\u001b[1;32m     10\u001b[0m \u001b[38;5;28mprint\u001b[39m(\u001b[38;5;124m'\u001b[39m\u001b[38;5;124mHarrell\u001b[39m\u001b[38;5;130;01m\\'\u001b[39;00m\u001b[38;5;124ms C = \u001b[39m\u001b[38;5;124m'\u001b[39m \u001b[38;5;241m+\u001b[39m \u001b[38;5;28mstr\u001b[39m(result[\u001b[38;5;241m0\u001b[39m]))\n",
      "File \u001b[0;32m~/opt/anaconda3/lib/python3.9/site-packages/sksurv/metrics.py:318\u001b[0m, in \u001b[0;36mconcordance_index_ipcw\u001b[0;34m(survival_train, survival_test, estimate, tau, tied_tol)\u001b[0m\n\u001b[1;32m    230\u001b[0m \u001b[38;5;28;01mdef\u001b[39;00m \u001b[38;5;21mconcordance_index_ipcw\u001b[39m(survival_train, survival_test, estimate, tau\u001b[38;5;241m=\u001b[39m\u001b[38;5;28;01mNone\u001b[39;00m, tied_tol\u001b[38;5;241m=\u001b[39m\u001b[38;5;241m1e-8\u001b[39m):\n\u001b[1;32m    231\u001b[0m     \u001b[38;5;124;03m\"\"\"Concordance index for right-censored data based on inverse probability of censoring weights.\u001b[39;00m\n\u001b[1;32m    232\u001b[0m \n\u001b[1;32m    233\u001b[0m \u001b[38;5;124;03m    This is an alternative to the estimator in :func:`concordance_index_censored`\u001b[39;00m\n\u001b[0;32m   (...)\u001b[0m\n\u001b[1;32m    316\u001b[0m \u001b[38;5;124;03m           Statistics in Medicine, 30(10), 1105–1117.\u001b[39;00m\n\u001b[1;32m    317\u001b[0m \u001b[38;5;124;03m    \"\"\"\u001b[39;00m\n\u001b[0;32m--> 318\u001b[0m     test_event, test_time \u001b[38;5;241m=\u001b[39m \u001b[43mcheck_y_survival\u001b[49m\u001b[43m(\u001b[49m\u001b[43msurvival_test\u001b[49m\u001b[43m)\u001b[49m\n\u001b[1;32m    320\u001b[0m     \u001b[38;5;28;01mif\u001b[39;00m tau \u001b[38;5;129;01mis\u001b[39;00m \u001b[38;5;129;01mnot\u001b[39;00m \u001b[38;5;28;01mNone\u001b[39;00m:\n\u001b[1;32m    321\u001b[0m         mask \u001b[38;5;241m=\u001b[39m test_time \u001b[38;5;241m<\u001b[39m tau\n",
      "File \u001b[0;32m~/opt/anaconda3/lib/python3.9/site-packages/sksurv/util.py:133\u001b[0m, in \u001b[0;36mcheck_y_survival\u001b[0;34m(y_or_event, allow_all_censored, *args)\u001b[0m\n\u001b[1;32m    130\u001b[0m y \u001b[38;5;241m=\u001b[39m y_or_event\n\u001b[1;32m    132\u001b[0m \u001b[38;5;28;01mif\u001b[39;00m \u001b[38;5;129;01mnot\u001b[39;00m \u001b[38;5;28misinstance\u001b[39m(y, numpy\u001b[38;5;241m.\u001b[39mndarray) \u001b[38;5;129;01mor\u001b[39;00m y\u001b[38;5;241m.\u001b[39mdtype\u001b[38;5;241m.\u001b[39mfields \u001b[38;5;129;01mis\u001b[39;00m \u001b[38;5;28;01mNone\u001b[39;00m \u001b[38;5;129;01mor\u001b[39;00m \u001b[38;5;28mlen\u001b[39m(y\u001b[38;5;241m.\u001b[39mdtype\u001b[38;5;241m.\u001b[39mfields) \u001b[38;5;241m!=\u001b[39m \u001b[38;5;241m2\u001b[39m:\n\u001b[0;32m--> 133\u001b[0m     \u001b[38;5;28;01mraise\u001b[39;00m \u001b[38;5;167;01mValueError\u001b[39;00m(\u001b[38;5;124m'\u001b[39m\u001b[38;5;124my must be a structured array with the first field\u001b[39m\u001b[38;5;124m'\u001b[39m\n\u001b[1;32m    134\u001b[0m                      \u001b[38;5;124m'\u001b[39m\u001b[38;5;124m being a binary class event indicator and the second field\u001b[39m\u001b[38;5;124m'\u001b[39m\n\u001b[1;32m    135\u001b[0m                      \u001b[38;5;124m'\u001b[39m\u001b[38;5;124m the time of the event/censoring\u001b[39m\u001b[38;5;124m'\u001b[39m)\n\u001b[1;32m    137\u001b[0m event_field, time_field \u001b[38;5;241m=\u001b[39m y\u001b[38;5;241m.\u001b[39mdtype\u001b[38;5;241m.\u001b[39mnames\n\u001b[1;32m    138\u001b[0m y_event \u001b[38;5;241m=\u001b[39m y[event_field]\n",
      "\u001b[0;31mValueError\u001b[0m: y must be a structured array with the first field being a binary class event indicator and the second field the time of the event/censoring"
     ]
    }
   ],
   "source": [
    "from sksurv.metrics import (\n",
    "    concordance_index_censored,\n",
    "    concordance_index_ipcw,\n",
    "    cumulative_dynamic_auc,\n",
    "    integrated_brier_score,\n",
    ")\n",
    "# Internal validation\n",
    "prediction = estimator.predict(train_numeric)\n",
    "result = concordance_index_ipcw(train_y[\"circ_death\"], train_y[\"futime\"], prediction)\n",
    "print('Harrell\\'s C = ' + str(result[0]))"
   ]
  },
  {
   "cell_type": "code",
   "execution_count": 101,
   "metadata": {
    "scrolled": true
   },
   "outputs": [
    {
     "name": "stdout",
     "output_type": "stream",
     "text": [
      "Harrell's C = 0.8237036176760931\n"
     ]
    }
   ],
   "source": [
    "# External validation - performs better? \n",
    "\n",
    "prediction = estimator.predict(test_numeric)\n",
    "result = concordance_index_censored(test_y[\"circ_death\"], test_y[\"futime\"], prediction)\n",
    "print('Harrell\\'s C = ' + str(result[0]))"
   ]
  },
  {
   "cell_type": "markdown",
   "metadata": {},
   "source": [
    "Harrell’s concordance index is known to be biased upwards if the amount of censoring in the test data is high. This might be why it's higher in external validation. 2. it is not a useful measure of performance if a specific time range is of primary interest (e.g. predicting death within 2 years). Let's see what "
   ]
  },
  {
   "cell_type": "markdown",
   "metadata": {},
   "source": [
    "### Competing risks: When subjects have multiple possible events in a time-to-event setting\n",
    "\n",
    "Examples:\n",
    "\n",
    "recurrence\n",
    "death from disease\n",
    "death from other causes\n",
    "treatment response\n",
    "All or some of these (among others) may be possible events in any given study.\n",
    "\n",
    "So what’s the problem?\n",
    "Unobserved dependence among event times is the fundamental problem that leads to the need for special consideration.\n",
    "\n",
    "For example, one can imagine that patients who recur are more likely to die, and therefore times to recurrence and times to death would not be independent events.\n",
    "\n",
    "Cumulative incidence using Kaplan-Meier is always >= cumulative incidence using competing risks methods, so can only lead to an overestimate of the cumulative incidence, the amount of overestimation depends on event rates and dependence among events\n",
    "\n",
    "A bunch of additional notes and references\n",
    "When the events are independent (almost never true), cause-specific hazards is unbiased\n",
    "When the events are dependent, a variety of results can be obtained depending on the setting"
   ]
  },
  {
   "cell_type": "markdown",
   "metadata": {},
   "source": [
    "### Competing risks regression\n",
    "\n",
    "https://www.emilyzabor.com/tutorials/survival_analysis_in_r_tutorial.html\n",
    "\n",
    "Two approaches:\n",
    "\n",
    "Cause-specific hazards\n",
    "instantaneous rate of occurrence of the given type of event in subjects who are currently event‐free\n",
    "estimated using Cox regression (coxph function)\n",
    "Subdistribution hazards\n",
    "instantaneous rate of occurrence of the given type of event in subjects who have not yet experienced an event of that type\n",
    "estimated using Fine-Gray regression (crr function)\n",
    "\n",
    "Competing risks regression in Melanoma data - subdistribution hazard approach\n",
    "Let’s say we’re interested in looking at the effect of age and sex on death from melanoma, with death from other causes as a competing event.\n",
    "\n",
    "Notes:\n",
    "\n",
    "crr requires specification of covariates as a matrix\n",
    "If more than one event is of interest, you can request results for a different event by using the failcode option, by default results are returned for failcode = 1"
   ]
  },
  {
   "cell_type": "markdown",
   "metadata": {},
   "source": [
    "### Prognostic index\n",
    "https://bmcmedresmethodol.biomedcentral.com/articles/10.1186/1471-2288-13-33#Sec2\n",
    "\n",
    "For practical application, the main product of a Cox model is a prognostic index (PI). The variables which comprise the PI may have been selected by a multivariable modelling technique that automatically takes into account correlations among variables, such as stepwise selection from a list of candidate variables. This approach often removes apparently redundant predictors. Some of the variables included in a PI may be continuous, and some may be transformed (as with the MFP method, or when using regression splines [20]). There is no necessity to dichotomise continuous variables—indeed, it wastes information [21].\n",
    "\n",
    "The obvious way to construct a PI is to take the linear predictor from a Cox model. The linear predictor is a weighted sum of the variables in the model, where the weights are the regression coefficients. In the usual situation in which the event of interest is an adverse outcome, high values indicate a worse prognosis. The PI for an individual is then the log relative hazard compared with a hypothetical individual whose PI is zero.\n",
    "\n",
    "Regardless of the justification for any post hoc manipulation, the approach to validation of a model is the same, no matter how a PI was obtained. It is, however, worth mentioning some factors that increase the likelihood of poor performance in a validation study: stepwise selection of variables from a large number of candidate variables with a small number of events, data-dependent cutpoint selection for continuous predictors, extensive missing data, a differently defined endpoint. In cancer, for example, the endpoint could be overall survival in the derivation dataset and progression-free survival in the validation dataset.\n",
    "\n",
    "#### Risk groups\n",
    "Mainly for clinical and statistical reasons, a PI is often used to create risk groups. The statistical reason is that it facilitates the comparison of actual survival probabilites with model-based estimates. Kaplan-Meier curves for each risk group offer an intuitive depiction of variation in prognosis. The disadvantage of grouping is that associated with any categorisation of a continuous variable [21]: information is lost, particularly at extreme risks. An alternative approach is to derive survival curves directly from the Cox model; a comparison with the Kaplan-Meier curves gives one possible assessment of the model calibration."
   ]
  },
  {
   "cell_type": "markdown",
   "metadata": {},
   "source": [
    "### Issues to delve into / future avenues for investigation\n",
    "\n",
    "**Left censoring:** this population only starts at age 50 and individuals don't enter at the same time, so potentially they might have died in this period\n",
    "\n",
    "**Data leakage from multiple imputation into k-fold - but won't affect external**"
   ]
  },
  {
   "cell_type": "code",
   "execution_count": null,
   "metadata": {},
   "outputs": [],
   "source": []
  }
 ],
 "metadata": {
  "kernelspec": {
   "display_name": "Python 3 (ipykernel)",
   "language": "python",
   "name": "python3"
  },
  "language_info": {
   "codemirror_mode": {
    "name": "ipython",
    "version": 3
   },
   "file_extension": ".py",
   "mimetype": "text/x-python",
   "name": "python",
   "nbconvert_exporter": "python",
   "pygments_lexer": "ipython3",
   "version": "3.9.12"
  }
 },
 "nbformat": 4,
 "nbformat_minor": 2
}
